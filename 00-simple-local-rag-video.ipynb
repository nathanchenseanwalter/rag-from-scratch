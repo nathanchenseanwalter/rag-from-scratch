{
 "cells": [
  {
   "cell_type": "markdown",
   "metadata": {},
   "source": [
    "## Import PDF"
   ]
  },
  {
   "cell_type": "code",
   "execution_count": 22,
   "metadata": {},
   "outputs": [],
   "source": [
    "from pathlib import Path\n",
    "import requests\n",
    "\n",
    "import pymupdf\n",
    "from tqdm.auto import tqdm\n",
    "import random\n",
    "\n",
    "import pandas as pd\n",
    "\n",
    "import re"
   ]
  },
  {
   "cell_type": "markdown",
   "metadata": {},
   "source": [
    "### Download PDF"
   ]
  },
  {
   "cell_type": "code",
   "execution_count": 4,
   "metadata": {},
   "outputs": [],
   "source": [
    "def download_pdf(url, file_path):\n",
    "    file_path = Path(file_path)\n",
    "    if not file_path.exists():\n",
    "        print(f'[INFO] File doesn\\'t exist. Downloading: {url}')\n",
    "        response = requests.get(url)\n",
    "        if response.status_code == 200:\n",
    "            with file_path.open('wb') as file:\n",
    "                file.write(response.content)\n",
    "            print(f'[INFO] The file has been downloaded: {file_path}')\n",
    "        else:\n",
    "            print(f'[INFO] Failed to download file. Status code: {response.status_code}')\n",
    "    else:\n",
    "        print(f'[INFO] File exists at {file_path.resolve()}')"
   ]
  },
  {
   "cell_type": "code",
   "execution_count": 5,
   "metadata": {},
   "outputs": [
    {
     "name": "stdout",
     "output_type": "stream",
     "text": [
      "[INFO] File exists at /Users/nc1514/Documents/GitHub/rag-from-scratch/human-nutrition-text.pdf\n"
     ]
    }
   ],
   "source": [
    "file_path = 'human-nutrition-text.pdf'\n",
    "url = \"https://pressbooks.oer.hawaii.edu/humannutrition2/open/download?type=pdf\"\n",
    "download_pdf(url, file_path)"
   ]
  },
  {
   "cell_type": "markdown",
   "metadata": {},
   "source": [
    "### Open PDF"
   ]
  },
  {
   "cell_type": "code",
   "execution_count": 6,
   "metadata": {},
   "outputs": [],
   "source": [
    "def text_formatter(text: str) -> str:\n",
    "    \n",
    "    cleaned_text = text.replace('\\n', ' ').strip()\n",
    "    \n",
    "    return cleaned_text\n",
    "\n",
    "def open_and_read_pdf(file_path, starting_num = 1):\n",
    "    pdf_document = pymupdf.open(file_path)\n",
    "    pages_and_texts = []\n",
    "    for page_number, page in tqdm(enumerate(pdf_document), total=len(pdf_document)):\n",
    "        text = text_formatter(page.get_text())\n",
    "        pages_and_texts.append({'page_number': page_number - starting_num,\n",
    "                                'page_char_count': len(text),\n",
    "                                'page_word_count': len(text.split(' ')),\n",
    "                                'page_sentence_count_raw': len(text.split('. ')),\n",
    "                                'page_token_count': len(text) / 4, # rough estimate of tokens\n",
    "                                'text': text})\n",
    "    return pages_and_texts"
   ]
  },
  {
   "cell_type": "code",
   "execution_count": 7,
   "metadata": {},
   "outputs": [
    {
     "data": {
      "application/vnd.jupyter.widget-view+json": {
       "model_id": "6fe04279ff4746738f6e29f2398e079e",
       "version_major": 2,
       "version_minor": 0
      },
      "text/plain": [
       "  0%|          | 0/1208 [00:00<?, ?it/s]"
      ]
     },
     "metadata": {},
     "output_type": "display_data"
    }
   ],
   "source": [
    "pages_and_texts = open_and_read_pdf(file_path, 41)"
   ]
  },
  {
   "cell_type": "code",
   "execution_count": 8,
   "metadata": {},
   "outputs": [
    {
     "data": {
      "text/plain": [
       "[{'page_number': 183,\n",
       "  'page_char_count': 165,\n",
       "  'page_word_count': 37,\n",
       "  'page_sentence_count_raw': 2,\n",
       "  'page_token_count': 41.25,\n",
       "  'text': 'Sodium  levels in  milligrams is  a required  listing on a  Nutrition  Facts label.  Sodium on the Nutrition Facts Panel  Figure 3.10 Nutrition Label  Sodium  |  183'},\n",
       " {'page_number': 341,\n",
       "  'page_char_count': 1946,\n",
       "  'page_word_count': 336,\n",
       "  'page_sentence_count_raw': 17,\n",
       "  'page_token_count': 486.5,\n",
       "  'text': 'initially contain polyunsaturated fatty acids. When the process of  hydrogenation is not complete, for example, not all carbon double  bonds have been saturated the end result is a partially hydrogenated  oil. The resulting oil is not fully solid. Total hydrogenation makes  the oil very hard and virtually unusable. Some newer products are  now using fully hydrogenated oil combined with nonhydrogenated  vegetable oils to create a usable fat.  Manufacturers favor hydrogenation as a way to prevent oxidation  of oils and ensure longer shelf life. Partially hydrogenated vegetable  oils are used in the fast food and processed food industries because  they impart the desired texture and crispness to baked and fried  foods. Partially hydrogenated vegetable oils are more resistant to  breakdown from extremely hot cooking temperatures. Because  hydrogenated oils have a high smoking point they are very well  suited for frying. In addition, processed vegetable oils are cheaper  than fats obtained from animal sources, making them a popular  choice for the food industry.  Trans fatty acids occur in small amounts in nature, mostly in  dairy products. However, the trans fats that are used by the food  industry are produced from the hydrogenation process. Trans fats  are a result of the partial hydrogenation of unsaturated fatty acids,  which cause them to have a trans configuration, rather than the  naturally occurring cis configuration.  Health Implications of Trans Fats  No trans fats! Zero trans fats! We see these advertisements on a  regular basis. So widespread is the concern over the issue that  restaurants, food manufacturers, and even fast-food establishments  proudly tout either the absence or the reduction of these fats within  their products. Amid the growing awareness that trans fats may not  be good for you, let’s get right to the heart of the matter. Why are  trans fats so bad?  Lipids and the Food Industry  |  341'}]"
      ]
     },
     "execution_count": 8,
     "metadata": {},
     "output_type": "execute_result"
    }
   ],
   "source": [
    "random.sample(pages_and_texts, 2)"
   ]
  },
  {
   "cell_type": "markdown",
   "metadata": {},
   "source": [
    "### Convert to Dataframe"
   ]
  },
  {
   "cell_type": "code",
   "execution_count": 9,
   "metadata": {},
   "outputs": [
    {
     "data": {
      "text/html": [
       "<div>\n",
       "<style scoped>\n",
       "    .dataframe tbody tr th:only-of-type {\n",
       "        vertical-align: middle;\n",
       "    }\n",
       "\n",
       "    .dataframe tbody tr th {\n",
       "        vertical-align: top;\n",
       "    }\n",
       "\n",
       "    .dataframe thead th {\n",
       "        text-align: right;\n",
       "    }\n",
       "</style>\n",
       "<table border=\"1\" class=\"dataframe\">\n",
       "  <thead>\n",
       "    <tr style=\"text-align: right;\">\n",
       "      <th></th>\n",
       "      <th>page_number</th>\n",
       "      <th>page_char_count</th>\n",
       "      <th>page_word_count</th>\n",
       "      <th>page_sentence_count_raw</th>\n",
       "      <th>page_token_count</th>\n",
       "      <th>text</th>\n",
       "    </tr>\n",
       "  </thead>\n",
       "  <tbody>\n",
       "    <tr>\n",
       "      <th>0</th>\n",
       "      <td>-41</td>\n",
       "      <td>29</td>\n",
       "      <td>4</td>\n",
       "      <td>1</td>\n",
       "      <td>7.25</td>\n",
       "      <td>Human Nutrition: 2020 Edition</td>\n",
       "    </tr>\n",
       "    <tr>\n",
       "      <th>1</th>\n",
       "      <td>-40</td>\n",
       "      <td>0</td>\n",
       "      <td>1</td>\n",
       "      <td>1</td>\n",
       "      <td>0.00</td>\n",
       "      <td></td>\n",
       "    </tr>\n",
       "    <tr>\n",
       "      <th>2</th>\n",
       "      <td>-39</td>\n",
       "      <td>320</td>\n",
       "      <td>54</td>\n",
       "      <td>1</td>\n",
       "      <td>80.00</td>\n",
       "      <td>Human Nutrition: 2020  Edition  UNIVERSITY OF ...</td>\n",
       "    </tr>\n",
       "    <tr>\n",
       "      <th>3</th>\n",
       "      <td>-38</td>\n",
       "      <td>212</td>\n",
       "      <td>32</td>\n",
       "      <td>1</td>\n",
       "      <td>53.00</td>\n",
       "      <td>Human Nutrition: 2020 Edition by University of...</td>\n",
       "    </tr>\n",
       "    <tr>\n",
       "      <th>4</th>\n",
       "      <td>-37</td>\n",
       "      <td>797</td>\n",
       "      <td>145</td>\n",
       "      <td>2</td>\n",
       "      <td>199.25</td>\n",
       "      <td>Contents  Preface  University of Hawai‘i at Mā...</td>\n",
       "    </tr>\n",
       "  </tbody>\n",
       "</table>\n",
       "</div>"
      ],
      "text/plain": [
       "   page_number  page_char_count  page_word_count  page_sentence_count_raw  \\\n",
       "0          -41               29                4                        1   \n",
       "1          -40                0                1                        1   \n",
       "2          -39              320               54                        1   \n",
       "3          -38              212               32                        1   \n",
       "4          -37              797              145                        2   \n",
       "\n",
       "   page_token_count                                               text  \n",
       "0              7.25                      Human Nutrition: 2020 Edition  \n",
       "1              0.00                                                     \n",
       "2             80.00  Human Nutrition: 2020  Edition  UNIVERSITY OF ...  \n",
       "3             53.00  Human Nutrition: 2020 Edition by University of...  \n",
       "4            199.25  Contents  Preface  University of Hawai‘i at Mā...  "
      ]
     },
     "execution_count": 9,
     "metadata": {},
     "output_type": "execute_result"
    }
   ],
   "source": [
    "df = pd.DataFrame(pages_and_texts)\n",
    "df.head()"
   ]
  },
  {
   "cell_type": "code",
   "execution_count": 10,
   "metadata": {},
   "outputs": [
    {
     "data": {
      "text/html": [
       "<div>\n",
       "<style scoped>\n",
       "    .dataframe tbody tr th:only-of-type {\n",
       "        vertical-align: middle;\n",
       "    }\n",
       "\n",
       "    .dataframe tbody tr th {\n",
       "        vertical-align: top;\n",
       "    }\n",
       "\n",
       "    .dataframe thead th {\n",
       "        text-align: right;\n",
       "    }\n",
       "</style>\n",
       "<table border=\"1\" class=\"dataframe\">\n",
       "  <thead>\n",
       "    <tr style=\"text-align: right;\">\n",
       "      <th></th>\n",
       "      <th>page_number</th>\n",
       "      <th>page_char_count</th>\n",
       "      <th>page_word_count</th>\n",
       "      <th>page_sentence_count_raw</th>\n",
       "      <th>page_token_count</th>\n",
       "    </tr>\n",
       "  </thead>\n",
       "  <tbody>\n",
       "    <tr>\n",
       "      <th>count</th>\n",
       "      <td>1208.00</td>\n",
       "      <td>1208.00</td>\n",
       "      <td>1208.00</td>\n",
       "      <td>1208.00</td>\n",
       "      <td>1208.00</td>\n",
       "    </tr>\n",
       "    <tr>\n",
       "      <th>mean</th>\n",
       "      <td>562.50</td>\n",
       "      <td>1148.59</td>\n",
       "      <td>198.89</td>\n",
       "      <td>9.97</td>\n",
       "      <td>287.15</td>\n",
       "    </tr>\n",
       "    <tr>\n",
       "      <th>std</th>\n",
       "      <td>348.86</td>\n",
       "      <td>560.44</td>\n",
       "      <td>95.75</td>\n",
       "      <td>6.19</td>\n",
       "      <td>140.11</td>\n",
       "    </tr>\n",
       "    <tr>\n",
       "      <th>min</th>\n",
       "      <td>-41.00</td>\n",
       "      <td>0.00</td>\n",
       "      <td>1.00</td>\n",
       "      <td>1.00</td>\n",
       "      <td>0.00</td>\n",
       "    </tr>\n",
       "    <tr>\n",
       "      <th>25%</th>\n",
       "      <td>260.75</td>\n",
       "      <td>762.75</td>\n",
       "      <td>134.00</td>\n",
       "      <td>4.00</td>\n",
       "      <td>190.69</td>\n",
       "    </tr>\n",
       "    <tr>\n",
       "      <th>50%</th>\n",
       "      <td>562.50</td>\n",
       "      <td>1232.50</td>\n",
       "      <td>215.00</td>\n",
       "      <td>10.00</td>\n",
       "      <td>308.12</td>\n",
       "    </tr>\n",
       "    <tr>\n",
       "      <th>75%</th>\n",
       "      <td>864.25</td>\n",
       "      <td>1605.25</td>\n",
       "      <td>271.25</td>\n",
       "      <td>14.00</td>\n",
       "      <td>401.31</td>\n",
       "    </tr>\n",
       "    <tr>\n",
       "      <th>max</th>\n",
       "      <td>1166.00</td>\n",
       "      <td>2308.00</td>\n",
       "      <td>429.00</td>\n",
       "      <td>32.00</td>\n",
       "      <td>577.00</td>\n",
       "    </tr>\n",
       "  </tbody>\n",
       "</table>\n",
       "</div>"
      ],
      "text/plain": [
       "       page_number  page_char_count  page_word_count  page_sentence_count_raw  \\\n",
       "count      1208.00          1208.00          1208.00                  1208.00   \n",
       "mean        562.50          1148.59           198.89                     9.97   \n",
       "std         348.86           560.44            95.75                     6.19   \n",
       "min         -41.00             0.00             1.00                     1.00   \n",
       "25%         260.75           762.75           134.00                     4.00   \n",
       "50%         562.50          1232.50           215.00                    10.00   \n",
       "75%         864.25          1605.25           271.25                    14.00   \n",
       "max        1166.00          2308.00           429.00                    32.00   \n",
       "\n",
       "       page_token_count  \n",
       "count           1208.00  \n",
       "mean             287.15  \n",
       "std              140.11  \n",
       "min                0.00  \n",
       "25%              190.69  \n",
       "50%              308.12  \n",
       "75%              401.31  \n",
       "max              577.00  "
      ]
     },
     "execution_count": 10,
     "metadata": {},
     "output_type": "execute_result"
    }
   ],
   "source": [
    "df.describe().round(2)"
   ]
  },
  {
   "cell_type": "markdown",
   "metadata": {},
   "source": [
    "## Preprocess Text Into Chunks"
   ]
  },
  {
   "cell_type": "code",
   "execution_count": 1,
   "metadata": {},
   "outputs": [],
   "source": [
    "from spacy.lang.en import English"
   ]
  },
  {
   "cell_type": "code",
   "execution_count": 12,
   "metadata": {},
   "outputs": [],
   "source": [
    "nlp = English()\n",
    "nlp.add_pipe('sentencizer')\n",
    "doc = nlp('This is a sentence. This is another sentence.')"
   ]
  },
  {
   "cell_type": "code",
   "execution_count": 13,
   "metadata": {},
   "outputs": [
    {
     "data": {
      "text/plain": [
       "[This is a sentence., This is another sentence.]"
      ]
     },
     "execution_count": 13,
     "metadata": {},
     "output_type": "execute_result"
    }
   ],
   "source": [
    "assert len(list(doc.sents)) == 2\n",
    "list(doc.sents)"
   ]
  },
  {
   "cell_type": "code",
   "execution_count": 14,
   "metadata": {},
   "outputs": [
    {
     "data": {
      "application/vnd.jupyter.widget-view+json": {
       "model_id": "c8f6cae166fe4d96b951bdc3ce10a3a4",
       "version_major": 2,
       "version_minor": 0
      },
      "text/plain": [
       "  0%|          | 0/1208 [00:00<?, ?it/s]"
      ]
     },
     "metadata": {},
     "output_type": "display_data"
    }
   ],
   "source": [
    "for item in tqdm(pages_and_texts):\n",
    "    item['sentences'] = list(nlp(item['text']).sents)\n",
    "    item['sentences'] = [str(sentence) for sentence in item['sentences']]\n",
    "    item['page_sentence_count_spacy'] = len(item['sentences'])"
   ]
  },
  {
   "cell_type": "code",
   "execution_count": 15,
   "metadata": {},
   "outputs": [
    {
     "data": {
      "text/plain": [
       "[{'page_number': -34,\n",
       "  'page_char_count': 1047,\n",
       "  'page_word_count': 186,\n",
       "  'page_sentence_count_raw': 2,\n",
       "  'page_token_count': 261.75,\n",
       "  'text': 'Indicators of Health: Body Mass Index, Body Fat  Content, and Fat Distribution  University of Hawai‘i at Mānoa Food Science and  Human Nutrition Program and Human Nutrition  Program  133  Part\\xa0III.\\xa0Chapter 3. Water and Electrolytes  Introduction  University of Hawai‘i at Mānoa Food Science and  Human Nutrition Program and Human Nutrition  Program  145  Overview of Fluid and Electrolyte Balance  University of Hawai‘i at Mānoa Food Science and  Human Nutrition Program and Human Nutrition  Program  150  Water’s Importance to Vitality  University of Hawai‘i at Mānoa Food Science and  Human Nutrition Program and Human Nutrition  Program  156  Regulation of Water Balance  University of Hawai‘i at Mānoa Food Science and  Human Nutrition Program and Human Nutrition  Program  162  Electrolytes Important for Fluid Balance  University of Hawai‘i at Mānoa Food Science and  Human Nutrition Program and Human Nutrition  Program  172  Sodium  University of Hawai‘i at Mānoa Food Science and  Human Nutrition Program and Human Nutrition  Program  176',\n",
       "  'sentences': ['Indicators of Health: Body Mass Index, Body Fat  Content, and Fat Distribution  University of Hawai‘i at Mānoa Food Science and  Human Nutrition Program and Human Nutrition  Program  133  Part\\xa0III.',\n",
       "   '\\xa0Chapter 3.',\n",
       "   'Water and Electrolytes  Introduction  University of Hawai‘i at Mānoa Food Science and  Human Nutrition Program and Human Nutrition  Program  145  Overview of Fluid and Electrolyte Balance  University of Hawai‘i at Mānoa Food Science and  Human Nutrition Program and Human Nutrition  Program  150  Water’s Importance to Vitality  University of Hawai‘i at Mānoa Food Science and  Human Nutrition Program and Human Nutrition  Program  156  Regulation of Water Balance  University of Hawai‘i at Mānoa Food Science and  Human Nutrition Program and Human Nutrition  Program  162  Electrolytes Important for Fluid Balance  University of Hawai‘i at Mānoa Food Science and  Human Nutrition Program and Human Nutrition  Program  172  Sodium  University of Hawai‘i at Mānoa Food Science and  Human Nutrition Program and Human Nutrition  Program  176'],\n",
       "  'page_sentence_count_spacy': 3},\n",
       " {'page_number': 465,\n",
       "  'page_char_count': 1657,\n",
       "  'page_word_count': 288,\n",
       "  'page_sentence_count_raw': 13,\n",
       "  'page_token_count': 414.25,\n",
       "  'text': '“Aerobic  Production  Pathways” by  Boumphreyfr  / CC BY-SA  3.0  • Stage 1. Glycolysis for glucose, β-oxidation for fatty acids, or  amino-acid catabolism  • Stage 2. Citric Acid Cycle (or Krebs cycle)  • Stage 3. Electron Transport Chain and ATP synthesis  Figure 8.4 ATP Production Pathway  The breakdown of glucose begins with glycolysis, which is a ten- step metabolic pathway yielding two ATP per glucose molecule;  glycolysis takes place in the cytosol and does not require oxygen. In  addition to ATP, the end-products of glycolysis include two three- carbon molecules, called pyruvate. Pyruvate can either be shuttled  to the citric acid cycle to make more ATP or follow an anabolic  pathway. If a cell is in negative-energy balance, pyruvate is  transported to the mitochondria where it first gets one of its  carbons chopped off, yielding acetyl-CoA. The breakdown of fatty  acids begins with the catabolic pathway, known as β-oxidation,  which takes place in the mitochondria. In this catabolic pathway,  four enzymatic steps sequentially remove two-carbon molecules  from long chains of fatty acids, yielding acetyl-CoA molecules. In the  case of amino acids, once the nitrogen is removed from the amino  acid the remaining carbon skeleton can be enzymatically converted  into acetyl-CoA or some other intermediate of the citric acid cycle.  Acetyl-CoA, a two-carbon molecule common to glucose, lipid, and  protein metabolism enters the second stage of energy metabolism,  the citric acid cycle.  In the citric acid cycle, acetyl-CoA is joined to a four-carbon  molecule. In this multistep pathway, two carbons are lost as two  The Atom  |  465',\n",
       "  'sentences': ['“Aerobic  Production  Pathways” by  Boumphreyfr  / CC BY-SA  3.0  • Stage 1.',\n",
       "   'Glycolysis for glucose, β-oxidation for fatty acids, or  amino-acid catabolism  • Stage 2.',\n",
       "   'Citric Acid Cycle (or Krebs cycle)  • Stage 3.',\n",
       "   'Electron Transport Chain and ATP synthesis  Figure 8.4 ATP Production Pathway  The breakdown of glucose begins with glycolysis, which is a ten- step metabolic pathway yielding two ATP per glucose molecule;  glycolysis takes place in the cytosol and does not require oxygen.',\n",
       "   'In  addition to ATP, the end-products of glycolysis include two three- carbon molecules, called pyruvate.',\n",
       "   'Pyruvate can either be shuttled  to the citric acid cycle to make more ATP or follow an anabolic  pathway.',\n",
       "   'If a cell is in negative-energy balance, pyruvate is  transported to the mitochondria where it first gets one of its  carbons chopped off, yielding acetyl-CoA. The breakdown of fatty  acids begins with the catabolic pathway, known as β-oxidation,  which takes place in the mitochondria.',\n",
       "   'In this catabolic pathway,  four enzymatic steps sequentially remove two-carbon molecules  from long chains of fatty acids, yielding acetyl-CoA molecules.',\n",
       "   'In the  case of amino acids, once the nitrogen is removed from the amino  acid the remaining carbon skeleton can be enzymatically converted  into acetyl-CoA or some other intermediate of the citric acid cycle.',\n",
       "   ' Acetyl-CoA, a two-carbon molecule common to glucose, lipid, and  protein metabolism enters the second stage of energy metabolism,  the citric acid cycle.',\n",
       "   ' In the citric acid cycle, acetyl-CoA is joined to a four-carbon  molecule.',\n",
       "   'In this multistep pathway, two carbons are lost as two  The Atom  |  465'],\n",
       "  'page_sentence_count_spacy': 12}]"
      ]
     },
     "execution_count": 15,
     "metadata": {},
     "output_type": "execute_result"
    }
   ],
   "source": [
    "random.sample(pages_and_texts, 2)"
   ]
  },
  {
   "cell_type": "code",
   "execution_count": 16,
   "metadata": {},
   "outputs": [
    {
     "data": {
      "text/html": [
       "<div>\n",
       "<style scoped>\n",
       "    .dataframe tbody tr th:only-of-type {\n",
       "        vertical-align: middle;\n",
       "    }\n",
       "\n",
       "    .dataframe tbody tr th {\n",
       "        vertical-align: top;\n",
       "    }\n",
       "\n",
       "    .dataframe thead th {\n",
       "        text-align: right;\n",
       "    }\n",
       "</style>\n",
       "<table border=\"1\" class=\"dataframe\">\n",
       "  <thead>\n",
       "    <tr style=\"text-align: right;\">\n",
       "      <th></th>\n",
       "      <th>page_number</th>\n",
       "      <th>page_char_count</th>\n",
       "      <th>page_word_count</th>\n",
       "      <th>page_sentence_count_raw</th>\n",
       "      <th>page_token_count</th>\n",
       "      <th>text</th>\n",
       "      <th>sentences</th>\n",
       "      <th>page_sentence_count_spacy</th>\n",
       "    </tr>\n",
       "  </thead>\n",
       "  <tbody>\n",
       "    <tr>\n",
       "      <th>0</th>\n",
       "      <td>-41</td>\n",
       "      <td>29</td>\n",
       "      <td>4</td>\n",
       "      <td>1</td>\n",
       "      <td>7.25</td>\n",
       "      <td>Human Nutrition: 2020 Edition</td>\n",
       "      <td>[Human Nutrition: 2020 Edition]</td>\n",
       "      <td>1</td>\n",
       "    </tr>\n",
       "    <tr>\n",
       "      <th>1</th>\n",
       "      <td>-40</td>\n",
       "      <td>0</td>\n",
       "      <td>1</td>\n",
       "      <td>1</td>\n",
       "      <td>0.00</td>\n",
       "      <td></td>\n",
       "      <td>[]</td>\n",
       "      <td>0</td>\n",
       "    </tr>\n",
       "    <tr>\n",
       "      <th>2</th>\n",
       "      <td>-39</td>\n",
       "      <td>320</td>\n",
       "      <td>54</td>\n",
       "      <td>1</td>\n",
       "      <td>80.00</td>\n",
       "      <td>Human Nutrition: 2020  Edition  UNIVERSITY OF ...</td>\n",
       "      <td>[Human Nutrition: 2020  Edition  UNIVERSITY OF...</td>\n",
       "      <td>1</td>\n",
       "    </tr>\n",
       "    <tr>\n",
       "      <th>3</th>\n",
       "      <td>-38</td>\n",
       "      <td>212</td>\n",
       "      <td>32</td>\n",
       "      <td>1</td>\n",
       "      <td>53.00</td>\n",
       "      <td>Human Nutrition: 2020 Edition by University of...</td>\n",
       "      <td>[Human Nutrition: 2020 Edition by University o...</td>\n",
       "      <td>1</td>\n",
       "    </tr>\n",
       "    <tr>\n",
       "      <th>4</th>\n",
       "      <td>-37</td>\n",
       "      <td>797</td>\n",
       "      <td>145</td>\n",
       "      <td>2</td>\n",
       "      <td>199.25</td>\n",
       "      <td>Contents  Preface  University of Hawai‘i at Mā...</td>\n",
       "      <td>[Contents  Preface  University of Hawai‘i at M...</td>\n",
       "      <td>2</td>\n",
       "    </tr>\n",
       "  </tbody>\n",
       "</table>\n",
       "</div>"
      ],
      "text/plain": [
       "   page_number  page_char_count  page_word_count  page_sentence_count_raw  \\\n",
       "0          -41               29                4                        1   \n",
       "1          -40                0                1                        1   \n",
       "2          -39              320               54                        1   \n",
       "3          -38              212               32                        1   \n",
       "4          -37              797              145                        2   \n",
       "\n",
       "   page_token_count                                               text  \\\n",
       "0              7.25                      Human Nutrition: 2020 Edition   \n",
       "1              0.00                                                      \n",
       "2             80.00  Human Nutrition: 2020  Edition  UNIVERSITY OF ...   \n",
       "3             53.00  Human Nutrition: 2020 Edition by University of...   \n",
       "4            199.25  Contents  Preface  University of Hawai‘i at Mā...   \n",
       "\n",
       "                                           sentences  \\\n",
       "0                    [Human Nutrition: 2020 Edition]   \n",
       "1                                                 []   \n",
       "2  [Human Nutrition: 2020  Edition  UNIVERSITY OF...   \n",
       "3  [Human Nutrition: 2020 Edition by University o...   \n",
       "4  [Contents  Preface  University of Hawai‘i at M...   \n",
       "\n",
       "   page_sentence_count_spacy  \n",
       "0                          1  \n",
       "1                          0  \n",
       "2                          1  \n",
       "3                          1  \n",
       "4                          2  "
      ]
     },
     "execution_count": 16,
     "metadata": {},
     "output_type": "execute_result"
    }
   ],
   "source": [
    "df = pd.DataFrame(pages_and_texts)\n",
    "df.head()"
   ]
  },
  {
   "cell_type": "markdown",
   "metadata": {},
   "source": [
    "### Chunking Sentences"
   ]
  },
  {
   "cell_type": "code",
   "execution_count": 17,
   "metadata": {},
   "outputs": [
    {
     "data": {
      "application/vnd.jupyter.widget-view+json": {
       "model_id": "e5be612154504e8ca8dca0b7622aa2e7",
       "version_major": 2,
       "version_minor": 0
      },
      "text/plain": [
       "  0%|          | 0/1208 [00:00<?, ?it/s]"
      ]
     },
     "metadata": {},
     "output_type": "display_data"
    }
   ],
   "source": [
    "num_sentence_chunk_size = 10\n",
    "def split_list(input_list: list[str],\n",
    "               slice_size: int) -> list[list[str]]:\n",
    "    return [input_list[i:i + slice_size] for i in range(0, len(input_list), slice_size)]\n",
    "\n",
    "for item in tqdm(pages_and_texts):\n",
    "    item['sentence_chunks'] = split_list(input_list=item['sentences'],\n",
    "                                         slice_size=num_sentence_chunk_size)\n",
    "    item['num_chunks'] = len(item['sentence_chunks'])"
   ]
  },
  {
   "cell_type": "code",
   "execution_count": 18,
   "metadata": {},
   "outputs": [
    {
     "data": {
      "text/plain": [
       "[{'page_number': 313,\n",
       "  'page_char_count': 1887,\n",
       "  'page_word_count': 321,\n",
       "  'page_sentence_count_raw': 16,\n",
       "  'page_token_count': 471.75,\n",
       "  'text': 'Nonessential and Essential  Fatty Acids  UNIVERSITY OF HAWAI‘I AT MĀNOA FOOD SCIENCE AND HUMAN  NUTRITION PROGRAM AND HUMAN NUTRITION PROGRAM  Fatty acids are vital for the normal operation of all body systems.  The circulatory system, respiratory system, integumentary system,  immune system, brain, and other organs require fatty acids for  proper function. The body is capable of synthesizing most of the  fatty acids it needs from food. These fatty acids are known as  nonessential fatty acids. However, there are some fatty acids that  the body cannot synthesize and these are called essential fatty  acids. It is important to note that nonessential fatty acids doesn’t  mean unimportant; the classification is based solely on the ability of  the body to synthesize the fatty acid.  Essential fatty acids must be obtained from food. They fall into  two categories—omega-3 and omega-6. The 3 and 6 refer to the  position of the first carbon double bond and the omega refers to  the methyl end of the chain. Omega-3 and omega-6 fatty acids  are precursors to important compounds called eicosanoids.  Eicosanoids are powerful hormones that control many other  hormones and important body functions, such as the central  nervous system and the immune system. Eicosanoids derived from  omega-6 fatty acids are known to increase blood pressure, immune  response, and inflammation. In contrast, eicosanoids derived from  omega-3 fatty acids are known to have heart-healthy effects. Given  the contrasting effects of the omega-3 and omega-6 fatty acids, a  proper dietary balance between the two must be achieved to ensure  optimal health benefits.  Essential fatty acids play an important role in the life and death  of cardiac cells, immune system function, and blood pressure  regulation. Docosahexaenoic acid (DHA) is an omega-3 essential  Nonessential and Essential Fatty Acids  |  313',\n",
       "  'sentences': ['Nonessential and Essential  Fatty Acids  UNIVERSITY OF HAWAI‘I AT MĀNOA FOOD SCIENCE AND HUMAN  NUTRITION PROGRAM AND HUMAN NUTRITION PROGRAM  Fatty acids are vital for the normal operation of all body systems.',\n",
       "   ' The circulatory system, respiratory system, integumentary system,  immune system, brain, and other organs require fatty acids for  proper function.',\n",
       "   'The body is capable of synthesizing most of the  fatty acids it needs from food.',\n",
       "   'These fatty acids are known as  nonessential fatty acids.',\n",
       "   'However, there are some fatty acids that  the body cannot synthesize and these are called essential fatty  acids.',\n",
       "   'It is important to note that nonessential fatty acids doesn’t  mean unimportant; the classification is based solely on the ability of  the body to synthesize the fatty acid.',\n",
       "   ' Essential fatty acids must be obtained from food.',\n",
       "   'They fall into  two categories—omega-3 and omega-6.',\n",
       "   'The 3 and 6 refer to the  position of the first carbon double bond and the omega refers to  the methyl end of the chain.',\n",
       "   'Omega-3 and omega-6 fatty acids  are precursors to important compounds called eicosanoids.',\n",
       "   ' Eicosanoids are powerful hormones that control many other  hormones and important body functions, such as the central  nervous system and the immune system.',\n",
       "   'Eicosanoids derived from  omega-6 fatty acids are known to increase blood pressure, immune  response, and inflammation.',\n",
       "   'In contrast, eicosanoids derived from  omega-3 fatty acids are known to have heart-healthy effects.',\n",
       "   'Given  the contrasting effects of the omega-3 and omega-6 fatty acids, a  proper dietary balance between the two must be achieved to ensure  optimal health benefits.',\n",
       "   ' Essential fatty acids play an important role in the life and death  of cardiac cells, immune system function, and blood pressure  regulation.',\n",
       "   'Docosahexaenoic acid (DHA) is an omega-3 essential  Nonessential and Essential Fatty Acids  |  313'],\n",
       "  'page_sentence_count_spacy': 16,\n",
       "  'sentence_chunks': [['Nonessential and Essential  Fatty Acids  UNIVERSITY OF HAWAI‘I AT MĀNOA FOOD SCIENCE AND HUMAN  NUTRITION PROGRAM AND HUMAN NUTRITION PROGRAM  Fatty acids are vital for the normal operation of all body systems.',\n",
       "    ' The circulatory system, respiratory system, integumentary system,  immune system, brain, and other organs require fatty acids for  proper function.',\n",
       "    'The body is capable of synthesizing most of the  fatty acids it needs from food.',\n",
       "    'These fatty acids are known as  nonessential fatty acids.',\n",
       "    'However, there are some fatty acids that  the body cannot synthesize and these are called essential fatty  acids.',\n",
       "    'It is important to note that nonessential fatty acids doesn’t  mean unimportant; the classification is based solely on the ability of  the body to synthesize the fatty acid.',\n",
       "    ' Essential fatty acids must be obtained from food.',\n",
       "    'They fall into  two categories—omega-3 and omega-6.',\n",
       "    'The 3 and 6 refer to the  position of the first carbon double bond and the omega refers to  the methyl end of the chain.',\n",
       "    'Omega-3 and omega-6 fatty acids  are precursors to important compounds called eicosanoids.'],\n",
       "   [' Eicosanoids are powerful hormones that control many other  hormones and important body functions, such as the central  nervous system and the immune system.',\n",
       "    'Eicosanoids derived from  omega-6 fatty acids are known to increase blood pressure, immune  response, and inflammation.',\n",
       "    'In contrast, eicosanoids derived from  omega-3 fatty acids are known to have heart-healthy effects.',\n",
       "    'Given  the contrasting effects of the omega-3 and omega-6 fatty acids, a  proper dietary balance between the two must be achieved to ensure  optimal health benefits.',\n",
       "    ' Essential fatty acids play an important role in the life and death  of cardiac cells, immune system function, and blood pressure  regulation.',\n",
       "    'Docosahexaenoic acid (DHA) is an omega-3 essential  Nonessential and Essential Fatty Acids  |  313']],\n",
       "  'num_chunks': 2}]"
      ]
     },
     "execution_count": 18,
     "metadata": {},
     "output_type": "execute_result"
    }
   ],
   "source": [
    "random.sample(pages_and_texts, k=1)"
   ]
  },
  {
   "cell_type": "code",
   "execution_count": 19,
   "metadata": {},
   "outputs": [
    {
     "data": {
      "text/html": [
       "<div>\n",
       "<style scoped>\n",
       "    .dataframe tbody tr th:only-of-type {\n",
       "        vertical-align: middle;\n",
       "    }\n",
       "\n",
       "    .dataframe tbody tr th {\n",
       "        vertical-align: top;\n",
       "    }\n",
       "\n",
       "    .dataframe thead th {\n",
       "        text-align: right;\n",
       "    }\n",
       "</style>\n",
       "<table border=\"1\" class=\"dataframe\">\n",
       "  <thead>\n",
       "    <tr style=\"text-align: right;\">\n",
       "      <th></th>\n",
       "      <th>page_number</th>\n",
       "      <th>page_char_count</th>\n",
       "      <th>page_word_count</th>\n",
       "      <th>page_sentence_count_raw</th>\n",
       "      <th>page_token_count</th>\n",
       "      <th>page_sentence_count_spacy</th>\n",
       "      <th>num_chunks</th>\n",
       "    </tr>\n",
       "  </thead>\n",
       "  <tbody>\n",
       "    <tr>\n",
       "      <th>count</th>\n",
       "      <td>1208.00</td>\n",
       "      <td>1208.00</td>\n",
       "      <td>1208.00</td>\n",
       "      <td>1208.00</td>\n",
       "      <td>1208.00</td>\n",
       "      <td>1208.00</td>\n",
       "      <td>1208.00</td>\n",
       "    </tr>\n",
       "    <tr>\n",
       "      <th>mean</th>\n",
       "      <td>562.50</td>\n",
       "      <td>1148.59</td>\n",
       "      <td>198.89</td>\n",
       "      <td>9.97</td>\n",
       "      <td>287.15</td>\n",
       "      <td>10.32</td>\n",
       "      <td>1.53</td>\n",
       "    </tr>\n",
       "    <tr>\n",
       "      <th>std</th>\n",
       "      <td>348.86</td>\n",
       "      <td>560.44</td>\n",
       "      <td>95.75</td>\n",
       "      <td>6.19</td>\n",
       "      <td>140.11</td>\n",
       "      <td>6.30</td>\n",
       "      <td>0.64</td>\n",
       "    </tr>\n",
       "    <tr>\n",
       "      <th>min</th>\n",
       "      <td>-41.00</td>\n",
       "      <td>0.00</td>\n",
       "      <td>1.00</td>\n",
       "      <td>1.00</td>\n",
       "      <td>0.00</td>\n",
       "      <td>0.00</td>\n",
       "      <td>0.00</td>\n",
       "    </tr>\n",
       "    <tr>\n",
       "      <th>25%</th>\n",
       "      <td>260.75</td>\n",
       "      <td>762.75</td>\n",
       "      <td>134.00</td>\n",
       "      <td>4.00</td>\n",
       "      <td>190.69</td>\n",
       "      <td>5.00</td>\n",
       "      <td>1.00</td>\n",
       "    </tr>\n",
       "    <tr>\n",
       "      <th>50%</th>\n",
       "      <td>562.50</td>\n",
       "      <td>1232.50</td>\n",
       "      <td>215.00</td>\n",
       "      <td>10.00</td>\n",
       "      <td>308.12</td>\n",
       "      <td>10.00</td>\n",
       "      <td>1.00</td>\n",
       "    </tr>\n",
       "    <tr>\n",
       "      <th>75%</th>\n",
       "      <td>864.25</td>\n",
       "      <td>1605.25</td>\n",
       "      <td>271.25</td>\n",
       "      <td>14.00</td>\n",
       "      <td>401.31</td>\n",
       "      <td>15.00</td>\n",
       "      <td>2.00</td>\n",
       "    </tr>\n",
       "    <tr>\n",
       "      <th>max</th>\n",
       "      <td>1166.00</td>\n",
       "      <td>2308.00</td>\n",
       "      <td>429.00</td>\n",
       "      <td>32.00</td>\n",
       "      <td>577.00</td>\n",
       "      <td>28.00</td>\n",
       "      <td>3.00</td>\n",
       "    </tr>\n",
       "  </tbody>\n",
       "</table>\n",
       "</div>"
      ],
      "text/plain": [
       "       page_number  page_char_count  page_word_count  page_sentence_count_raw  \\\n",
       "count      1208.00          1208.00          1208.00                  1208.00   \n",
       "mean        562.50          1148.59           198.89                     9.97   \n",
       "std         348.86           560.44            95.75                     6.19   \n",
       "min         -41.00             0.00             1.00                     1.00   \n",
       "25%         260.75           762.75           134.00                     4.00   \n",
       "50%         562.50          1232.50           215.00                    10.00   \n",
       "75%         864.25          1605.25           271.25                    14.00   \n",
       "max        1166.00          2308.00           429.00                    32.00   \n",
       "\n",
       "       page_token_count  page_sentence_count_spacy  num_chunks  \n",
       "count           1208.00                    1208.00     1208.00  \n",
       "mean             287.15                      10.32        1.53  \n",
       "std              140.11                       6.30        0.64  \n",
       "min                0.00                       0.00        0.00  \n",
       "25%              190.69                       5.00        1.00  \n",
       "50%              308.12                      10.00        1.00  \n",
       "75%              401.31                      15.00        2.00  \n",
       "max              577.00                      28.00        3.00  "
      ]
     },
     "execution_count": 19,
     "metadata": {},
     "output_type": "execute_result"
    }
   ],
   "source": [
    "df = pd.DataFrame(pages_and_texts)\n",
    "df.describe().round(2)"
   ]
  },
  {
   "cell_type": "code",
   "execution_count": 23,
   "metadata": {},
   "outputs": [
    {
     "data": {
      "application/vnd.jupyter.widget-view+json": {
       "model_id": "c223bac9e84b4534b4f6ac4204112382",
       "version_major": 2,
       "version_minor": 0
      },
      "text/plain": [
       "  0%|          | 0/1208 [00:00<?, ?it/s]"
      ]
     },
     "metadata": {},
     "output_type": "display_data"
    },
    {
     "data": {
      "text/plain": [
       "1843"
      ]
     },
     "execution_count": 23,
     "metadata": {},
     "output_type": "execute_result"
    }
   ],
   "source": [
    "# Split each chunk into its own item\n",
    "pages_and_chunks = []\n",
    "for item in tqdm(pages_and_texts):\n",
    "    for sentence_chunk in item[\"sentence_chunks\"]:\n",
    "        chunk_dict = {}\n",
    "        chunk_dict[\"page_number\"] = item[\"page_number\"]\n",
    "        \n",
    "        # Join the sentences together into a paragraph-like structure, aka a chunk (so they are a single string)\n",
    "        joined_sentence_chunk = \"\".join(sentence_chunk).replace(\"  \", \" \").strip()\n",
    "        joined_sentence_chunk = re.sub(r'\\.([A-Z])', r'. \\1', joined_sentence_chunk) # \".A\" -> \". A\" for any full-stop/capital letter combo \n",
    "        chunk_dict[\"sentence_chunk\"] = joined_sentence_chunk\n",
    "\n",
    "        # Get stats about the chunk\n",
    "        chunk_dict[\"chunk_char_count\"] = len(joined_sentence_chunk)\n",
    "        chunk_dict[\"chunk_word_count\"] = len([word for word in joined_sentence_chunk.split(\" \")])\n",
    "        chunk_dict[\"chunk_token_count\"] = len(joined_sentence_chunk) / 4 # 1 token = ~4 characters\n",
    "        \n",
    "        pages_and_chunks.append(chunk_dict)\n",
    "\n",
    "# How many chunks do we have?\n",
    "len(pages_and_chunks)"
   ]
  },
  {
   "cell_type": "code",
   "execution_count": 24,
   "metadata": {},
   "outputs": [
    {
     "data": {
      "text/plain": [
       "[{'page_number': 104,\n",
       "  'sentence_chunk': 'cells, pick up oxygen to be transported to tissues throughout the body. The pulmonary artery carries deoxygenated blood to the lungs. The pulmonary artery branches multiple times as it follows the bronchi, and each branch becomes progressively smaller in diameter down to the tiny capillaries where the alveoli release carbon dioxide from blood into the lungs to be exhaled and take up oxygen from inhaled air to oxygenate the blood. Once the blood is oxygenated, it drains from the alveoli by way of multiple pulmonary veins that exit the lungs to carry oxygen to the rest of the body. Learning Activities Technology Note: The second edition of the Human Nutrition Open Educational Resource (OER) textbook features interactive learning activities.\\xa0 These activities are available in the web-based textbook and not available in the downloadable versions (EPUB, Digital PDF, Print_PDF, or Open Document). Learning activities may be used across various mobile devices, however, for the best user experience it is strongly recommended that users complete these activities using a desktop or laptop computer and in Google Chrome. \\xa0 104 | The Respiratory System',\n",
       "  'chunk_char_count': 1156,\n",
       "  'chunk_word_count': 181,\n",
       "  'chunk_token_count': 289.0}]"
      ]
     },
     "execution_count": 24,
     "metadata": {},
     "output_type": "execute_result"
    }
   ],
   "source": [
    "random.sample(pages_and_chunks, k=1)"
   ]
  },
  {
   "cell_type": "code",
   "execution_count": 25,
   "metadata": {},
   "outputs": [
    {
     "data": {
      "text/html": [
       "<div>\n",
       "<style scoped>\n",
       "    .dataframe tbody tr th:only-of-type {\n",
       "        vertical-align: middle;\n",
       "    }\n",
       "\n",
       "    .dataframe tbody tr th {\n",
       "        vertical-align: top;\n",
       "    }\n",
       "\n",
       "    .dataframe thead th {\n",
       "        text-align: right;\n",
       "    }\n",
       "</style>\n",
       "<table border=\"1\" class=\"dataframe\">\n",
       "  <thead>\n",
       "    <tr style=\"text-align: right;\">\n",
       "      <th></th>\n",
       "      <th>page_number</th>\n",
       "      <th>chunk_char_count</th>\n",
       "      <th>chunk_word_count</th>\n",
       "      <th>chunk_token_count</th>\n",
       "    </tr>\n",
       "  </thead>\n",
       "  <tbody>\n",
       "    <tr>\n",
       "      <th>count</th>\n",
       "      <td>1843.00</td>\n",
       "      <td>1843.00</td>\n",
       "      <td>1843.00</td>\n",
       "      <td>1843.00</td>\n",
       "    </tr>\n",
       "    <tr>\n",
       "      <th>mean</th>\n",
       "      <td>583.38</td>\n",
       "      <td>734.83</td>\n",
       "      <td>112.72</td>\n",
       "      <td>183.71</td>\n",
       "    </tr>\n",
       "    <tr>\n",
       "      <th>std</th>\n",
       "      <td>347.79</td>\n",
       "      <td>447.43</td>\n",
       "      <td>71.07</td>\n",
       "      <td>111.86</td>\n",
       "    </tr>\n",
       "    <tr>\n",
       "      <th>min</th>\n",
       "      <td>-41.00</td>\n",
       "      <td>12.00</td>\n",
       "      <td>3.00</td>\n",
       "      <td>3.00</td>\n",
       "    </tr>\n",
       "    <tr>\n",
       "      <th>25%</th>\n",
       "      <td>280.50</td>\n",
       "      <td>315.00</td>\n",
       "      <td>45.00</td>\n",
       "      <td>78.75</td>\n",
       "    </tr>\n",
       "    <tr>\n",
       "      <th>50%</th>\n",
       "      <td>586.00</td>\n",
       "      <td>746.00</td>\n",
       "      <td>114.00</td>\n",
       "      <td>186.50</td>\n",
       "    </tr>\n",
       "    <tr>\n",
       "      <th>75%</th>\n",
       "      <td>890.00</td>\n",
       "      <td>1118.50</td>\n",
       "      <td>173.00</td>\n",
       "      <td>279.62</td>\n",
       "    </tr>\n",
       "    <tr>\n",
       "      <th>max</th>\n",
       "      <td>1166.00</td>\n",
       "      <td>1831.00</td>\n",
       "      <td>297.00</td>\n",
       "      <td>457.75</td>\n",
       "    </tr>\n",
       "  </tbody>\n",
       "</table>\n",
       "</div>"
      ],
      "text/plain": [
       "       page_number  chunk_char_count  chunk_word_count  chunk_token_count\n",
       "count      1843.00           1843.00           1843.00            1843.00\n",
       "mean        583.38            734.83            112.72             183.71\n",
       "std         347.79            447.43             71.07             111.86\n",
       "min         -41.00             12.00              3.00               3.00\n",
       "25%         280.50            315.00             45.00              78.75\n",
       "50%         586.00            746.00            114.00             186.50\n",
       "75%         890.00           1118.50            173.00             279.62\n",
       "max        1166.00           1831.00            297.00             457.75"
      ]
     },
     "execution_count": 25,
     "metadata": {},
     "output_type": "execute_result"
    }
   ],
   "source": [
    "df = pd.DataFrame(pages_and_chunks)\n",
    "df.describe().round(2)"
   ]
  },
  {
   "cell_type": "code",
   "execution_count": 26,
   "metadata": {},
   "outputs": [
    {
     "name": "stdout",
     "output_type": "stream",
     "text": [
      "Chunk token count: 15.75 | Text: PART IV CHAPTER 4. CARBOHYDRATES Chapter 4. Carbohydrates | 227\n",
      "Chunk token count: 13.25 | Text: PART IX CHAPTER 9. VITAMINS Chapter 9. Vitamins | 513\n",
      "Chunk token count: 22.0 | Text: Figure 6.10 Enzymes Role in Carbohydrate Digestion Protein’s Functions in the Body | 385\n",
      "Chunk token count: 16.75 | Text: http:/ /www.aafp.org/afp/ 2002/1001/p1217.html. 862 | Toddler Years\n",
      "Chunk token count: 7.0 | Text: Water-Soluble Vitamins | 553\n"
     ]
    }
   ],
   "source": [
    "min_token_length = 30\n",
    "for row in df[df[\"chunk_token_count\"] <= min_token_length].sample(5).iterrows():\n",
    "    print(f'Chunk token count: {row[1][\"chunk_token_count\"]} | Text: {row[1][\"sentence_chunk\"]}')"
   ]
  },
  {
   "cell_type": "code",
   "execution_count": 27,
   "metadata": {},
   "outputs": [
    {
     "data": {
      "text/plain": [
       "[{'page_number': -39,\n",
       "  'sentence_chunk': 'Human Nutrition: 2020 Edition UNIVERSITY OF HAWAI‘I AT MĀNOA FOOD SCIENCE AND HUMAN NUTRITION PROGRAM ALAN TITCHENAL, SKYLAR HARA, NOEMI ARCEO CAACBAY, WILLIAM MEINKE-LAU, YA-YUN YANG, MARIE KAINOA FIALKOWSKI REVILLA, JENNIFER DRAPER, GEMADY LANGFELDER, CHERYL GIBBY, CHYNA NICOLE CHUN, AND ALLISON CALABRESE',\n",
       "  'chunk_char_count': 308,\n",
       "  'chunk_word_count': 42,\n",
       "  'chunk_token_count': 77.0},\n",
       " {'page_number': -38,\n",
       "  'sentence_chunk': 'Human Nutrition: 2020 Edition by University of Hawai‘i at Mānoa Food Science and Human Nutrition Program is licensed under a Creative Commons Attribution 4.0 International License, except where otherwise noted.',\n",
       "  'chunk_char_count': 210,\n",
       "  'chunk_word_count': 30,\n",
       "  'chunk_token_count': 52.5}]"
      ]
     },
     "execution_count": 27,
     "metadata": {},
     "output_type": "execute_result"
    }
   ],
   "source": [
    "pages_and_chunks_over_min_token_len = df[df[\"chunk_token_count\"] > min_token_length].to_dict(orient=\"records\")\n",
    "pages_and_chunks_over_min_token_len[:2]"
   ]
  }
 ],
 "metadata": {
  "kernelspec": {
   "display_name": "venv",
   "language": "python",
   "name": "python3"
  },
  "language_info": {
   "codemirror_mode": {
    "name": "ipython",
    "version": 3
   },
   "file_extension": ".py",
   "mimetype": "text/x-python",
   "name": "python",
   "nbconvert_exporter": "python",
   "pygments_lexer": "ipython3",
   "version": "3.10.13"
  }
 },
 "nbformat": 4,
 "nbformat_minor": 2
}
