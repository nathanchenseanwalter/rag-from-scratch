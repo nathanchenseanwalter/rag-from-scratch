{
 "cells": [
  {
   "cell_type": "markdown",
   "metadata": {},
   "source": [
    "## Import PDF"
   ]
  },
  {
   "cell_type": "code",
   "execution_count": 1,
   "metadata": {},
   "outputs": [],
   "source": [
    "from pathlib import Path\n",
    "import requests\n",
    "\n",
    "import pymupdf\n",
    "from tqdm.auto import tqdm\n",
    "import random\n",
    "\n",
    "import pandas as pd\n",
    "\n",
    "import re"
   ]
  },
  {
   "cell_type": "markdown",
   "metadata": {},
   "source": [
    "### Download PDF"
   ]
  },
  {
   "cell_type": "code",
   "execution_count": 2,
   "metadata": {},
   "outputs": [],
   "source": [
    "def download_pdf(url, file_path):\n",
    "    file_path = Path(file_path)\n",
    "    if not file_path.exists():\n",
    "        print(f'[INFO] File doesn\\'t exist. Downloading: {url}')\n",
    "        response = requests.get(url)\n",
    "        if response.status_code == 200:\n",
    "            with file_path.open('wb') as file:\n",
    "                file.write(response.content)\n",
    "            print(f'[INFO] The file has been downloaded: {file_path}')\n",
    "        else:\n",
    "            print(f'[INFO] Failed to download file. Status code: {response.status_code}')\n",
    "    else:\n",
    "        print(f'[INFO] File exists at {file_path.resolve()}')"
   ]
  },
  {
   "cell_type": "code",
   "execution_count": 3,
   "metadata": {},
   "outputs": [
    {
     "name": "stdout",
     "output_type": "stream",
     "text": [
      "[INFO] File exists at /Users/nc1514/Documents/GitHub/rag-from-scratch/human-nutrition-text.pdf\n"
     ]
    }
   ],
   "source": [
    "file_path = 'human-nutrition-text.pdf'\n",
    "url = \"https://pressbooks.oer.hawaii.edu/humannutrition2/open/download?type=pdf\"\n",
    "download_pdf(url, file_path)"
   ]
  },
  {
   "cell_type": "markdown",
   "metadata": {},
   "source": [
    "### Open PDF"
   ]
  },
  {
   "cell_type": "code",
   "execution_count": 4,
   "metadata": {},
   "outputs": [],
   "source": [
    "def text_formatter(text: str) -> str:\n",
    "    \n",
    "    cleaned_text = text.replace('\\n', ' ').strip()\n",
    "    \n",
    "    return cleaned_text\n",
    "\n",
    "def open_and_read_pdf(file_path, starting_num = 1):\n",
    "    pdf_document = pymupdf.open(file_path)\n",
    "    pages_and_texts = []\n",
    "    for page_number, page in tqdm(enumerate(pdf_document), total=len(pdf_document)):\n",
    "        text = text_formatter(page.get_text())\n",
    "        pages_and_texts.append({'page_number': page_number - starting_num,\n",
    "                                'page_char_count': len(text),\n",
    "                                'page_word_count': len(text.split(' ')),\n",
    "                                'page_sentence_count_raw': len(text.split('. ')),\n",
    "                                'page_token_count': len(text) / 4, # rough estimate of tokens\n",
    "                                'text': text})\n",
    "    return pages_and_texts"
   ]
  },
  {
   "cell_type": "code",
   "execution_count": 5,
   "metadata": {},
   "outputs": [
    {
     "data": {
      "application/vnd.jupyter.widget-view+json": {
       "model_id": "1f4b8ad712d746a58e51d787eb75cf70",
       "version_major": 2,
       "version_minor": 0
      },
      "text/plain": [
       "  0%|          | 0/1208 [00:00<?, ?it/s]"
      ]
     },
     "metadata": {},
     "output_type": "display_data"
    }
   ],
   "source": [
    "pages_and_texts = open_and_read_pdf(file_path, 41)"
   ]
  },
  {
   "cell_type": "code",
   "execution_count": 6,
   "metadata": {},
   "outputs": [
    {
     "data": {
      "text/plain": [
       "[{'page_number': 1145,\n",
       "  'page_char_count': 1954,\n",
       "  'page_word_count': 291,\n",
       "  'page_sentence_count_raw': 15,\n",
       "  'page_token_count': 488.5,\n",
       "  'text': 'nursing-care facilities. This requires creating meal plans and  providing nutritional guidance to help patients restore their health  or manage chronic conditions. Clinical dietitians also confer with  doctors and other health-care professionals to coordinate dietary  recommendations with medical needs. Nutrition jobs in the  community often involve working in public health clinics,  cooperative extension offices, and HMOs to prevent disease and  promote the health of the local community. Nutrition jobs in the  nonprofit world involve anti-hunger organizations, public health  organizations, and activist groups.  Nutritionists and dietitians can also find work in the private  sector. Increased public awareness of food, diet, and nutrition has  led to employment opportunities in advertising, marketing, and  food manufacturing. Dietitians working in these areas analyze foods,  prepare marketing materials, or report on issues such as the impact  of vitamins and herbal supplements. Consultant careers can include  working in wellness programs, supermarkets, physicians’ offices,  gyms, and weight-loss clinics. Consultants in private practice  perform nutrition screenings for clients and use their findings to  provide guidance on diet-related issues, such as weight reduction.  Nutrition careers in the corporate world include designing wellness  strategies and nutrition components for companies, working as  representatives for food or supplement companies, designing  marketing and educational campaigns, and becoming lobbyists.  Others in the private sector work in food-service management at  health-care facilities or at company and school cafeterias.  Sustainable agricultural practices are also providing interesting  private sector careers on farms and in food systems. There are  employment opportunities in farm management, marketing and  sales, compliance, finance, and land surveying and appraisal.  Careers in Nutrition  |  1145'},\n",
       " {'page_number': 422,\n",
       "  'page_char_count': 1711,\n",
       "  'page_word_count': 282,\n",
       "  'page_sentence_count_raw': 15,\n",
       "  'page_token_count': 427.75,\n",
       "  'text': 'turnover rate. During exercise, especially when it is performed for  longer than two to three hours, muscle tissue is broken down and  some of the amino acids are catabolized to fuel muscle contraction.  To avert excessive borrowing of amino acids from muscle tissue to  synthesize energy during prolonged exercise, protein needs to be  obtained from the diet. Intense exercise, such as strength training,  stresses muscle tissue so that afterward, the body adapts by  building bigger, stronger, and healthier muscle tissue. The body  requires protein post-exercise to accomplish this. The IOM does  not set different RDAs for protein intakes for athletes, but the AND,  the American College of Sports Medicine, and Dietitians of Canada  have the following position statements4:  Nitrogen balance studies suggest that dietary protein intake  necessary to support nitrogen balance in endurance athletes  ranges from 1.2 to 1.4 grams per kilogram of body weight per  day.  Recommended protein intakes for strength-trained athletes  range from approximately 1.2 to 1.7 grams per kilogram of  weight per day.  An endurance athlete who weighs 170 pounds should take in 93  to 108 grams of protein per day (170 ÷ 2.2 × 1.2 and 170 ÷ 2.2 ×  1.4). On a 3,000-kilocalorie diet, that amount is between 12 and 14  4.\\xa0American College of Sports Medicine, Academy of  Nutrition and Dietetics, and Dietitians of Canada. (2009).  Joint Position Statement: Nutrition and Athletic  Performance. Medicine & Science in Sports & Exercise,  41(3), 709-31. http:/ /journals.lww.com/acsm-msse/ fulltext/2009/03000/ Nutrition_and_Athletic_Performance.27.aspx. Accessed  September 28, 2017.  422  |  Proteins, Diet, and Personal Choices'}]"
      ]
     },
     "execution_count": 6,
     "metadata": {},
     "output_type": "execute_result"
    }
   ],
   "source": [
    "random.sample(pages_and_texts, 2)"
   ]
  },
  {
   "cell_type": "markdown",
   "metadata": {},
   "source": [
    "### Convert to Dataframe"
   ]
  },
  {
   "cell_type": "code",
   "execution_count": 7,
   "metadata": {},
   "outputs": [
    {
     "data": {
      "text/html": [
       "<div>\n",
       "<style scoped>\n",
       "    .dataframe tbody tr th:only-of-type {\n",
       "        vertical-align: middle;\n",
       "    }\n",
       "\n",
       "    .dataframe tbody tr th {\n",
       "        vertical-align: top;\n",
       "    }\n",
       "\n",
       "    .dataframe thead th {\n",
       "        text-align: right;\n",
       "    }\n",
       "</style>\n",
       "<table border=\"1\" class=\"dataframe\">\n",
       "  <thead>\n",
       "    <tr style=\"text-align: right;\">\n",
       "      <th></th>\n",
       "      <th>page_number</th>\n",
       "      <th>page_char_count</th>\n",
       "      <th>page_word_count</th>\n",
       "      <th>page_sentence_count_raw</th>\n",
       "      <th>page_token_count</th>\n",
       "      <th>text</th>\n",
       "    </tr>\n",
       "  </thead>\n",
       "  <tbody>\n",
       "    <tr>\n",
       "      <th>0</th>\n",
       "      <td>-41</td>\n",
       "      <td>29</td>\n",
       "      <td>4</td>\n",
       "      <td>1</td>\n",
       "      <td>7.25</td>\n",
       "      <td>Human Nutrition: 2020 Edition</td>\n",
       "    </tr>\n",
       "    <tr>\n",
       "      <th>1</th>\n",
       "      <td>-40</td>\n",
       "      <td>0</td>\n",
       "      <td>1</td>\n",
       "      <td>1</td>\n",
       "      <td>0.00</td>\n",
       "      <td></td>\n",
       "    </tr>\n",
       "    <tr>\n",
       "      <th>2</th>\n",
       "      <td>-39</td>\n",
       "      <td>320</td>\n",
       "      <td>54</td>\n",
       "      <td>1</td>\n",
       "      <td>80.00</td>\n",
       "      <td>Human Nutrition: 2020  Edition  UNIVERSITY OF ...</td>\n",
       "    </tr>\n",
       "    <tr>\n",
       "      <th>3</th>\n",
       "      <td>-38</td>\n",
       "      <td>212</td>\n",
       "      <td>32</td>\n",
       "      <td>1</td>\n",
       "      <td>53.00</td>\n",
       "      <td>Human Nutrition: 2020 Edition by University of...</td>\n",
       "    </tr>\n",
       "    <tr>\n",
       "      <th>4</th>\n",
       "      <td>-37</td>\n",
       "      <td>797</td>\n",
       "      <td>145</td>\n",
       "      <td>2</td>\n",
       "      <td>199.25</td>\n",
       "      <td>Contents  Preface  University of Hawai‘i at Mā...</td>\n",
       "    </tr>\n",
       "  </tbody>\n",
       "</table>\n",
       "</div>"
      ],
      "text/plain": [
       "   page_number  page_char_count  page_word_count  page_sentence_count_raw  \\\n",
       "0          -41               29                4                        1   \n",
       "1          -40                0                1                        1   \n",
       "2          -39              320               54                        1   \n",
       "3          -38              212               32                        1   \n",
       "4          -37              797              145                        2   \n",
       "\n",
       "   page_token_count                                               text  \n",
       "0              7.25                      Human Nutrition: 2020 Edition  \n",
       "1              0.00                                                     \n",
       "2             80.00  Human Nutrition: 2020  Edition  UNIVERSITY OF ...  \n",
       "3             53.00  Human Nutrition: 2020 Edition by University of...  \n",
       "4            199.25  Contents  Preface  University of Hawai‘i at Mā...  "
      ]
     },
     "execution_count": 7,
     "metadata": {},
     "output_type": "execute_result"
    }
   ],
   "source": [
    "df = pd.DataFrame(pages_and_texts)\n",
    "df.head()"
   ]
  },
  {
   "cell_type": "code",
   "execution_count": 8,
   "metadata": {},
   "outputs": [
    {
     "data": {
      "text/html": [
       "<div>\n",
       "<style scoped>\n",
       "    .dataframe tbody tr th:only-of-type {\n",
       "        vertical-align: middle;\n",
       "    }\n",
       "\n",
       "    .dataframe tbody tr th {\n",
       "        vertical-align: top;\n",
       "    }\n",
       "\n",
       "    .dataframe thead th {\n",
       "        text-align: right;\n",
       "    }\n",
       "</style>\n",
       "<table border=\"1\" class=\"dataframe\">\n",
       "  <thead>\n",
       "    <tr style=\"text-align: right;\">\n",
       "      <th></th>\n",
       "      <th>page_number</th>\n",
       "      <th>page_char_count</th>\n",
       "      <th>page_word_count</th>\n",
       "      <th>page_sentence_count_raw</th>\n",
       "      <th>page_token_count</th>\n",
       "    </tr>\n",
       "  </thead>\n",
       "  <tbody>\n",
       "    <tr>\n",
       "      <th>count</th>\n",
       "      <td>1208.00</td>\n",
       "      <td>1208.00</td>\n",
       "      <td>1208.00</td>\n",
       "      <td>1208.00</td>\n",
       "      <td>1208.00</td>\n",
       "    </tr>\n",
       "    <tr>\n",
       "      <th>mean</th>\n",
       "      <td>562.50</td>\n",
       "      <td>1148.59</td>\n",
       "      <td>198.89</td>\n",
       "      <td>9.97</td>\n",
       "      <td>287.15</td>\n",
       "    </tr>\n",
       "    <tr>\n",
       "      <th>std</th>\n",
       "      <td>348.86</td>\n",
       "      <td>560.44</td>\n",
       "      <td>95.75</td>\n",
       "      <td>6.19</td>\n",
       "      <td>140.11</td>\n",
       "    </tr>\n",
       "    <tr>\n",
       "      <th>min</th>\n",
       "      <td>-41.00</td>\n",
       "      <td>0.00</td>\n",
       "      <td>1.00</td>\n",
       "      <td>1.00</td>\n",
       "      <td>0.00</td>\n",
       "    </tr>\n",
       "    <tr>\n",
       "      <th>25%</th>\n",
       "      <td>260.75</td>\n",
       "      <td>762.75</td>\n",
       "      <td>134.00</td>\n",
       "      <td>4.00</td>\n",
       "      <td>190.69</td>\n",
       "    </tr>\n",
       "    <tr>\n",
       "      <th>50%</th>\n",
       "      <td>562.50</td>\n",
       "      <td>1232.50</td>\n",
       "      <td>215.00</td>\n",
       "      <td>10.00</td>\n",
       "      <td>308.12</td>\n",
       "    </tr>\n",
       "    <tr>\n",
       "      <th>75%</th>\n",
       "      <td>864.25</td>\n",
       "      <td>1605.25</td>\n",
       "      <td>271.25</td>\n",
       "      <td>14.00</td>\n",
       "      <td>401.31</td>\n",
       "    </tr>\n",
       "    <tr>\n",
       "      <th>max</th>\n",
       "      <td>1166.00</td>\n",
       "      <td>2308.00</td>\n",
       "      <td>429.00</td>\n",
       "      <td>32.00</td>\n",
       "      <td>577.00</td>\n",
       "    </tr>\n",
       "  </tbody>\n",
       "</table>\n",
       "</div>"
      ],
      "text/plain": [
       "       page_number  page_char_count  page_word_count  page_sentence_count_raw  \\\n",
       "count      1208.00          1208.00          1208.00                  1208.00   \n",
       "mean        562.50          1148.59           198.89                     9.97   \n",
       "std         348.86           560.44            95.75                     6.19   \n",
       "min         -41.00             0.00             1.00                     1.00   \n",
       "25%         260.75           762.75           134.00                     4.00   \n",
       "50%         562.50          1232.50           215.00                    10.00   \n",
       "75%         864.25          1605.25           271.25                    14.00   \n",
       "max        1166.00          2308.00           429.00                    32.00   \n",
       "\n",
       "       page_token_count  \n",
       "count           1208.00  \n",
       "mean             287.15  \n",
       "std              140.11  \n",
       "min                0.00  \n",
       "25%              190.69  \n",
       "50%              308.12  \n",
       "75%              401.31  \n",
       "max              577.00  "
      ]
     },
     "execution_count": 8,
     "metadata": {},
     "output_type": "execute_result"
    }
   ],
   "source": [
    "df.describe().round(2)"
   ]
  },
  {
   "cell_type": "markdown",
   "metadata": {},
   "source": [
    "## Preprocess Text Into Chunks"
   ]
  },
  {
   "cell_type": "code",
   "execution_count": 9,
   "metadata": {},
   "outputs": [],
   "source": [
    "from spacy.lang.en import English"
   ]
  },
  {
   "cell_type": "code",
   "execution_count": 10,
   "metadata": {},
   "outputs": [],
   "source": [
    "nlp = English()\n",
    "nlp.add_pipe('sentencizer')\n",
    "doc = nlp('This is a sentence. This is another sentence.')"
   ]
  },
  {
   "cell_type": "code",
   "execution_count": 11,
   "metadata": {},
   "outputs": [
    {
     "data": {
      "text/plain": [
       "[This is a sentence., This is another sentence.]"
      ]
     },
     "execution_count": 11,
     "metadata": {},
     "output_type": "execute_result"
    }
   ],
   "source": [
    "assert len(list(doc.sents)) == 2\n",
    "list(doc.sents)"
   ]
  },
  {
   "cell_type": "code",
   "execution_count": 12,
   "metadata": {},
   "outputs": [
    {
     "data": {
      "application/vnd.jupyter.widget-view+json": {
       "model_id": "74ea2d590c804248a692f441a2b6698f",
       "version_major": 2,
       "version_minor": 0
      },
      "text/plain": [
       "  0%|          | 0/1208 [00:00<?, ?it/s]"
      ]
     },
     "metadata": {},
     "output_type": "display_data"
    }
   ],
   "source": [
    "for item in tqdm(pages_and_texts):\n",
    "    item['sentences'] = list(nlp(item['text']).sents)\n",
    "    item['sentences'] = [str(sentence) for sentence in item['sentences']]\n",
    "    item['page_sentence_count_spacy'] = len(item['sentences'])"
   ]
  },
  {
   "cell_type": "code",
   "execution_count": 13,
   "metadata": {},
   "outputs": [
    {
     "data": {
      "text/plain": [
       "[{'page_number': 573,\n",
       "  'page_char_count': 1113,\n",
       "  'page_word_count': 190,\n",
       "  'page_sentence_count_raw': 11,\n",
       "  'page_token_count': 278.25,\n",
       "  'text': 'making it unavailable for absorption. A rare genetic disease-causing  malfunction of the biotinidase enzyme also results in biotin  deficiency. Symptoms of biotin deficiency are similar to those of  other B vitamins, but may also include hair loss when severe.  Dietary Reference Intakes  Because there is little information on the requirements for biotin,  the FNB has developed Adequate Intakes (AI) based on the observed  dietary intakes in healthy population groups. The AI for different age  groups for biotin are listed in Table 9.21 “Dietary Reference Intakes  for Biotin”.  Table 9.21 Dietary Reference Intakes for Biotin  Age Group  AI Males and Females mcg/day)  Infants (0–6 months)  5  Infants (7–12 months)  6  Children (1–3 years)  8  Children (4–8 years)  12  Children (9–13 years)  20  Adolescents (14–18 years) 25  Adults (> 19 years)  30  Fact Sheet for Health Professionals: Biotin. National Institute of  Health, Office of Dietary Supplements. https:/ /ods.od.nih.gov/ factsheets/Biotin-HealthProfessional/. Updated October 3, 2017.  Accessed November 10, 2017.  Water-Soluble Vitamins  |  573',\n",
       "  'sentences': ['making it unavailable for absorption.',\n",
       "   'A rare genetic disease-causing  malfunction of the biotinidase enzyme also results in biotin  deficiency.',\n",
       "   'Symptoms of biotin deficiency are similar to those of  other B vitamins, but may also include hair loss when severe.',\n",
       "   ' Dietary Reference Intakes  Because there is little information on the requirements for biotin,  the FNB has developed Adequate Intakes (AI) based on the observed  dietary intakes in healthy population groups.',\n",
       "   'The AI for different age  groups for biotin are listed in Table 9.21 “Dietary Reference Intakes  for Biotin”.',\n",
       "   ' Table 9.21 Dietary Reference Intakes for Biotin  Age Group  AI Males and Females mcg/day)  Infants (0–6 months)  5  Infants (7–12 months)  6  Children (1–3 years)  8  Children (4–8 years)  12  Children (9–13 years)  20  Adolescents (14–18 years) 25  Adults (> 19 years)  30  Fact Sheet for Health Professionals: Biotin.',\n",
       "   'National Institute of  Health, Office of Dietary Supplements.',\n",
       "   'https:/ /ods.od.nih.gov/ factsheets/Biotin-HealthProfessional/. Updated October 3, 2017.',\n",
       "   ' Accessed November 10, 2017.',\n",
       "   ' Water-Soluble Vitamins  |  573'],\n",
       "  'page_sentence_count_spacy': 10},\n",
       " {'page_number': 742,\n",
       "  'page_char_count': 826,\n",
       "  'page_word_count': 136,\n",
       "  'page_sentence_count_raw': 9,\n",
       "  'page_token_count': 206.5,\n",
       "  'text': 'support optimal health, the new food plan offers the advice that it is  okay to enjoy food, just eat a diverse diet and in moderation2.  Everyday Connections  Image by Got Nutrients?/ Got Nutrients website  Interested in another reliable source for nutrition and  health information? The “Got Nutrients?” website highlights  the importance of meeting essential nutrient needs in order  to maintain optimum health. This website, geared for those  interested in nutrition, fitness, and health, posts short daily  nutrition and health messages. Each short “Daily Tip”  includes links to both a popular article and to a related  scientific resource. For more information about “Got  2.\\xa0Choose MyPlate. US Department of Agriculture.  http:/ /www.choosemyplate.gov/. Accessed July 22, 2012.  742  |  Building Healthy Eating Patterns',\n",
       "  'sentences': ['support optimal health, the new food plan offers the advice that it is  okay to enjoy food, just eat a diverse diet and in moderation2.',\n",
       "   ' Everyday Connections  Image by Got Nutrients?/ Got Nutrients website  Interested in another reliable source for nutrition and  health information?',\n",
       "   'The “Got Nutrients?”',\n",
       "   'website highlights  the importance of meeting essential nutrient needs in order  to maintain optimum health.',\n",
       "   'This website, geared for those  interested in nutrition, fitness, and health, posts short daily  nutrition and health messages.',\n",
       "   'Each short “Daily Tip”  includes links to both a popular article and to a related  scientific resource.',\n",
       "   'For more information about “Got  2.',\n",
       "   '\\xa0Choose MyPlate.',\n",
       "   'US Department of Agriculture.',\n",
       "   ' http:/ /www.choosemyplate.gov/. Accessed July 22, 2012.',\n",
       "   ' 742  |  Building Healthy Eating Patterns'],\n",
       "  'page_sentence_count_spacy': 11}]"
      ]
     },
     "execution_count": 13,
     "metadata": {},
     "output_type": "execute_result"
    }
   ],
   "source": [
    "random.sample(pages_and_texts, 2)"
   ]
  },
  {
   "cell_type": "code",
   "execution_count": 14,
   "metadata": {},
   "outputs": [
    {
     "data": {
      "text/html": [
       "<div>\n",
       "<style scoped>\n",
       "    .dataframe tbody tr th:only-of-type {\n",
       "        vertical-align: middle;\n",
       "    }\n",
       "\n",
       "    .dataframe tbody tr th {\n",
       "        vertical-align: top;\n",
       "    }\n",
       "\n",
       "    .dataframe thead th {\n",
       "        text-align: right;\n",
       "    }\n",
       "</style>\n",
       "<table border=\"1\" class=\"dataframe\">\n",
       "  <thead>\n",
       "    <tr style=\"text-align: right;\">\n",
       "      <th></th>\n",
       "      <th>page_number</th>\n",
       "      <th>page_char_count</th>\n",
       "      <th>page_word_count</th>\n",
       "      <th>page_sentence_count_raw</th>\n",
       "      <th>page_token_count</th>\n",
       "      <th>text</th>\n",
       "      <th>sentences</th>\n",
       "      <th>page_sentence_count_spacy</th>\n",
       "    </tr>\n",
       "  </thead>\n",
       "  <tbody>\n",
       "    <tr>\n",
       "      <th>0</th>\n",
       "      <td>-41</td>\n",
       "      <td>29</td>\n",
       "      <td>4</td>\n",
       "      <td>1</td>\n",
       "      <td>7.25</td>\n",
       "      <td>Human Nutrition: 2020 Edition</td>\n",
       "      <td>[Human Nutrition: 2020 Edition]</td>\n",
       "      <td>1</td>\n",
       "    </tr>\n",
       "    <tr>\n",
       "      <th>1</th>\n",
       "      <td>-40</td>\n",
       "      <td>0</td>\n",
       "      <td>1</td>\n",
       "      <td>1</td>\n",
       "      <td>0.00</td>\n",
       "      <td></td>\n",
       "      <td>[]</td>\n",
       "      <td>0</td>\n",
       "    </tr>\n",
       "    <tr>\n",
       "      <th>2</th>\n",
       "      <td>-39</td>\n",
       "      <td>320</td>\n",
       "      <td>54</td>\n",
       "      <td>1</td>\n",
       "      <td>80.00</td>\n",
       "      <td>Human Nutrition: 2020  Edition  UNIVERSITY OF ...</td>\n",
       "      <td>[Human Nutrition: 2020  Edition  UNIVERSITY OF...</td>\n",
       "      <td>1</td>\n",
       "    </tr>\n",
       "    <tr>\n",
       "      <th>3</th>\n",
       "      <td>-38</td>\n",
       "      <td>212</td>\n",
       "      <td>32</td>\n",
       "      <td>1</td>\n",
       "      <td>53.00</td>\n",
       "      <td>Human Nutrition: 2020 Edition by University of...</td>\n",
       "      <td>[Human Nutrition: 2020 Edition by University o...</td>\n",
       "      <td>1</td>\n",
       "    </tr>\n",
       "    <tr>\n",
       "      <th>4</th>\n",
       "      <td>-37</td>\n",
       "      <td>797</td>\n",
       "      <td>145</td>\n",
       "      <td>2</td>\n",
       "      <td>199.25</td>\n",
       "      <td>Contents  Preface  University of Hawai‘i at Mā...</td>\n",
       "      <td>[Contents  Preface  University of Hawai‘i at M...</td>\n",
       "      <td>2</td>\n",
       "    </tr>\n",
       "  </tbody>\n",
       "</table>\n",
       "</div>"
      ],
      "text/plain": [
       "   page_number  page_char_count  page_word_count  page_sentence_count_raw  \\\n",
       "0          -41               29                4                        1   \n",
       "1          -40                0                1                        1   \n",
       "2          -39              320               54                        1   \n",
       "3          -38              212               32                        1   \n",
       "4          -37              797              145                        2   \n",
       "\n",
       "   page_token_count                                               text  \\\n",
       "0              7.25                      Human Nutrition: 2020 Edition   \n",
       "1              0.00                                                      \n",
       "2             80.00  Human Nutrition: 2020  Edition  UNIVERSITY OF ...   \n",
       "3             53.00  Human Nutrition: 2020 Edition by University of...   \n",
       "4            199.25  Contents  Preface  University of Hawai‘i at Mā...   \n",
       "\n",
       "                                           sentences  \\\n",
       "0                    [Human Nutrition: 2020 Edition]   \n",
       "1                                                 []   \n",
       "2  [Human Nutrition: 2020  Edition  UNIVERSITY OF...   \n",
       "3  [Human Nutrition: 2020 Edition by University o...   \n",
       "4  [Contents  Preface  University of Hawai‘i at M...   \n",
       "\n",
       "   page_sentence_count_spacy  \n",
       "0                          1  \n",
       "1                          0  \n",
       "2                          1  \n",
       "3                          1  \n",
       "4                          2  "
      ]
     },
     "execution_count": 14,
     "metadata": {},
     "output_type": "execute_result"
    }
   ],
   "source": [
    "df = pd.DataFrame(pages_and_texts)\n",
    "df.head()"
   ]
  },
  {
   "cell_type": "markdown",
   "metadata": {},
   "source": [
    "### Chunking Sentences"
   ]
  },
  {
   "cell_type": "code",
   "execution_count": 15,
   "metadata": {},
   "outputs": [
    {
     "data": {
      "application/vnd.jupyter.widget-view+json": {
       "model_id": "6fbc2b7106ef46689eedb0bb6bd4cd8a",
       "version_major": 2,
       "version_minor": 0
      },
      "text/plain": [
       "  0%|          | 0/1208 [00:00<?, ?it/s]"
      ]
     },
     "metadata": {},
     "output_type": "display_data"
    }
   ],
   "source": [
    "num_sentence_chunk_size = 10\n",
    "def split_list(input_list: list[str],\n",
    "               slice_size: int) -> list[list[str]]:\n",
    "    return [input_list[i:i + slice_size] for i in range(0, len(input_list), slice_size)]\n",
    "\n",
    "for item in tqdm(pages_and_texts):\n",
    "    item['sentence_chunks'] = split_list(input_list=item['sentences'],\n",
    "                                         slice_size=num_sentence_chunk_size)\n",
    "    item['num_chunks'] = len(item['sentence_chunks'])"
   ]
  },
  {
   "cell_type": "code",
   "execution_count": 16,
   "metadata": {},
   "outputs": [
    {
     "data": {
      "text/plain": [
       "[{'page_number': 122,\n",
       "  'page_char_count': 2140,\n",
       "  'page_word_count': 379,\n",
       "  'page_sentence_count_raw': 23,\n",
       "  'page_token_count': 535.0,\n",
       "  'text': 'Bone Anatomy and Structure  To optimize bone health through nutrition, it is important to  understand bone anatomy. The skeleton is composed of two main  parts, the axial and the appendicular parts. The axial skeleton  consists of the skull, vertebral column, and rib cage, and is  composed of eighty bones. The appendicular skeleton consists of  the shoulder girdle, pelvic girdle, and upper and lower extremities,  and is composed of 126 bones. Bones are also categorized by size  and shape. There are four types of bone: long bones, short bones,  flat bones, and irregular bones. The longest bone in your body is the  femur (thigh bone), which extends from your hip to your knee. It is a  long bone and functions to support your weight as you stand, walk,  or run. Your wrist is composed of eight irregular-shaped bones,  which allow for the intricate movements of your hands. Your twelve  ribs on each side of your body are curved flat bones that protect  your heart and lungs. Thus, the bones’ different sizes and shapes  allow for their different functions.  Bones are composed of approximately 65 percent inorganic  material known as mineralized matrix. This mineralized matrix  consists of mostly crystallized hydroxyapatite. The bone’s hard  crystal matrix of bone tissue gives it its rigid structure. The other  35 percent of bone is organic material, most of which is the fibrous  protein collagen. The collagen fibers are networked throughout  bone tissue and provide it with flexibility and strength. The bones’  inorganic and organic materials are structured into two different  tissue types. There is spongy bone, also called trabecular or  cancellous bone, and compact bone, also called cortical bone  (Figure 2.26 “The Arrangement of Bone Tissues”). The two tissue  types differ in their microarchitecture and porosity. Trabecular  bone is 50 to 90 percent porous and appears as a lattice-like  structure under the microscope. It is found at the ends of long  bones, in the cores of vertebrae, and in the pelvis. Trabecular bone  tissue makes up about 20 percent of the adult skeleton. The more  122  |  The Skeletal System',\n",
       "  'sentences': ['Bone Anatomy and Structure  To optimize bone health through nutrition, it is important to  understand bone anatomy.',\n",
       "   'The skeleton is composed of two main  parts, the axial and the appendicular parts.',\n",
       "   'The axial skeleton  consists of the skull, vertebral column, and rib cage, and is  composed of eighty bones.',\n",
       "   'The appendicular skeleton consists of  the shoulder girdle, pelvic girdle, and upper and lower extremities,  and is composed of 126 bones.',\n",
       "   'Bones are also categorized by size  and shape.',\n",
       "   'There are four types of bone: long bones, short bones,  flat bones, and irregular bones.',\n",
       "   'The longest bone in your body is the  femur (thigh bone), which extends from your hip to your knee.',\n",
       "   'It is a  long bone and functions to support your weight as you stand, walk,  or run.',\n",
       "   'Your wrist is composed of eight irregular-shaped bones,  which allow for the intricate movements of your hands.',\n",
       "   'Your twelve  ribs on each side of your body are curved flat bones that protect  your heart and lungs.',\n",
       "   'Thus, the bones’ different sizes and shapes  allow for their different functions.',\n",
       "   ' Bones are composed of approximately 65 percent inorganic  material known as mineralized matrix.',\n",
       "   'This mineralized matrix  consists of mostly crystallized hydroxyapatite.',\n",
       "   'The bone’s hard  crystal matrix of bone tissue gives it its rigid structure.',\n",
       "   'The other  35 percent of bone is organic material, most of which is the fibrous  protein collagen.',\n",
       "   'The collagen fibers are networked throughout  bone tissue and provide it with flexibility and strength.',\n",
       "   'The bones’  inorganic and organic materials are structured into two different  tissue types.',\n",
       "   'There is spongy bone, also called trabecular or  cancellous bone, and compact bone, also called cortical bone  (Figure 2.26 “The Arrangement of Bone Tissues”).',\n",
       "   'The two tissue  types differ in their microarchitecture and porosity.',\n",
       "   'Trabecular  bone is 50 to 90 percent porous and appears as a lattice-like  structure under the microscope.',\n",
       "   'It is found at the ends of long  bones, in the cores of vertebrae, and in the pelvis.',\n",
       "   'Trabecular bone  tissue makes up about 20 percent of the adult skeleton.',\n",
       "   'The more  122  |  The Skeletal System'],\n",
       "  'page_sentence_count_spacy': 23,\n",
       "  'sentence_chunks': [['Bone Anatomy and Structure  To optimize bone health through nutrition, it is important to  understand bone anatomy.',\n",
       "    'The skeleton is composed of two main  parts, the axial and the appendicular parts.',\n",
       "    'The axial skeleton  consists of the skull, vertebral column, and rib cage, and is  composed of eighty bones.',\n",
       "    'The appendicular skeleton consists of  the shoulder girdle, pelvic girdle, and upper and lower extremities,  and is composed of 126 bones.',\n",
       "    'Bones are also categorized by size  and shape.',\n",
       "    'There are four types of bone: long bones, short bones,  flat bones, and irregular bones.',\n",
       "    'The longest bone in your body is the  femur (thigh bone), which extends from your hip to your knee.',\n",
       "    'It is a  long bone and functions to support your weight as you stand, walk,  or run.',\n",
       "    'Your wrist is composed of eight irregular-shaped bones,  which allow for the intricate movements of your hands.',\n",
       "    'Your twelve  ribs on each side of your body are curved flat bones that protect  your heart and lungs.'],\n",
       "   ['Thus, the bones’ different sizes and shapes  allow for their different functions.',\n",
       "    ' Bones are composed of approximately 65 percent inorganic  material known as mineralized matrix.',\n",
       "    'This mineralized matrix  consists of mostly crystallized hydroxyapatite.',\n",
       "    'The bone’s hard  crystal matrix of bone tissue gives it its rigid structure.',\n",
       "    'The other  35 percent of bone is organic material, most of which is the fibrous  protein collagen.',\n",
       "    'The collagen fibers are networked throughout  bone tissue and provide it with flexibility and strength.',\n",
       "    'The bones’  inorganic and organic materials are structured into two different  tissue types.',\n",
       "    'There is spongy bone, also called trabecular or  cancellous bone, and compact bone, also called cortical bone  (Figure 2.26 “The Arrangement of Bone Tissues”).',\n",
       "    'The two tissue  types differ in their microarchitecture and porosity.',\n",
       "    'Trabecular  bone is 50 to 90 percent porous and appears as a lattice-like  structure under the microscope.'],\n",
       "   ['It is found at the ends of long  bones, in the cores of vertebrae, and in the pelvis.',\n",
       "    'Trabecular bone  tissue makes up about 20 percent of the adult skeleton.',\n",
       "    'The more  122  |  The Skeletal System']],\n",
       "  'num_chunks': 3}]"
      ]
     },
     "execution_count": 16,
     "metadata": {},
     "output_type": "execute_result"
    }
   ],
   "source": [
    "random.sample(pages_and_texts, k=1)"
   ]
  },
  {
   "cell_type": "code",
   "execution_count": 17,
   "metadata": {},
   "outputs": [
    {
     "data": {
      "text/html": [
       "<div>\n",
       "<style scoped>\n",
       "    .dataframe tbody tr th:only-of-type {\n",
       "        vertical-align: middle;\n",
       "    }\n",
       "\n",
       "    .dataframe tbody tr th {\n",
       "        vertical-align: top;\n",
       "    }\n",
       "\n",
       "    .dataframe thead th {\n",
       "        text-align: right;\n",
       "    }\n",
       "</style>\n",
       "<table border=\"1\" class=\"dataframe\">\n",
       "  <thead>\n",
       "    <tr style=\"text-align: right;\">\n",
       "      <th></th>\n",
       "      <th>page_number</th>\n",
       "      <th>page_char_count</th>\n",
       "      <th>page_word_count</th>\n",
       "      <th>page_sentence_count_raw</th>\n",
       "      <th>page_token_count</th>\n",
       "      <th>page_sentence_count_spacy</th>\n",
       "      <th>num_chunks</th>\n",
       "    </tr>\n",
       "  </thead>\n",
       "  <tbody>\n",
       "    <tr>\n",
       "      <th>count</th>\n",
       "      <td>1208.00</td>\n",
       "      <td>1208.00</td>\n",
       "      <td>1208.00</td>\n",
       "      <td>1208.00</td>\n",
       "      <td>1208.00</td>\n",
       "      <td>1208.00</td>\n",
       "      <td>1208.00</td>\n",
       "    </tr>\n",
       "    <tr>\n",
       "      <th>mean</th>\n",
       "      <td>562.50</td>\n",
       "      <td>1148.59</td>\n",
       "      <td>198.89</td>\n",
       "      <td>9.97</td>\n",
       "      <td>287.15</td>\n",
       "      <td>10.32</td>\n",
       "      <td>1.53</td>\n",
       "    </tr>\n",
       "    <tr>\n",
       "      <th>std</th>\n",
       "      <td>348.86</td>\n",
       "      <td>560.44</td>\n",
       "      <td>95.75</td>\n",
       "      <td>6.19</td>\n",
       "      <td>140.11</td>\n",
       "      <td>6.30</td>\n",
       "      <td>0.64</td>\n",
       "    </tr>\n",
       "    <tr>\n",
       "      <th>min</th>\n",
       "      <td>-41.00</td>\n",
       "      <td>0.00</td>\n",
       "      <td>1.00</td>\n",
       "      <td>1.00</td>\n",
       "      <td>0.00</td>\n",
       "      <td>0.00</td>\n",
       "      <td>0.00</td>\n",
       "    </tr>\n",
       "    <tr>\n",
       "      <th>25%</th>\n",
       "      <td>260.75</td>\n",
       "      <td>762.75</td>\n",
       "      <td>134.00</td>\n",
       "      <td>4.00</td>\n",
       "      <td>190.69</td>\n",
       "      <td>5.00</td>\n",
       "      <td>1.00</td>\n",
       "    </tr>\n",
       "    <tr>\n",
       "      <th>50%</th>\n",
       "      <td>562.50</td>\n",
       "      <td>1232.50</td>\n",
       "      <td>215.00</td>\n",
       "      <td>10.00</td>\n",
       "      <td>308.12</td>\n",
       "      <td>10.00</td>\n",
       "      <td>1.00</td>\n",
       "    </tr>\n",
       "    <tr>\n",
       "      <th>75%</th>\n",
       "      <td>864.25</td>\n",
       "      <td>1605.25</td>\n",
       "      <td>271.25</td>\n",
       "      <td>14.00</td>\n",
       "      <td>401.31</td>\n",
       "      <td>15.00</td>\n",
       "      <td>2.00</td>\n",
       "    </tr>\n",
       "    <tr>\n",
       "      <th>max</th>\n",
       "      <td>1166.00</td>\n",
       "      <td>2308.00</td>\n",
       "      <td>429.00</td>\n",
       "      <td>32.00</td>\n",
       "      <td>577.00</td>\n",
       "      <td>28.00</td>\n",
       "      <td>3.00</td>\n",
       "    </tr>\n",
       "  </tbody>\n",
       "</table>\n",
       "</div>"
      ],
      "text/plain": [
       "       page_number  page_char_count  page_word_count  page_sentence_count_raw  \\\n",
       "count      1208.00          1208.00          1208.00                  1208.00   \n",
       "mean        562.50          1148.59           198.89                     9.97   \n",
       "std         348.86           560.44            95.75                     6.19   \n",
       "min         -41.00             0.00             1.00                     1.00   \n",
       "25%         260.75           762.75           134.00                     4.00   \n",
       "50%         562.50          1232.50           215.00                    10.00   \n",
       "75%         864.25          1605.25           271.25                    14.00   \n",
       "max        1166.00          2308.00           429.00                    32.00   \n",
       "\n",
       "       page_token_count  page_sentence_count_spacy  num_chunks  \n",
       "count           1208.00                    1208.00     1208.00  \n",
       "mean             287.15                      10.32        1.53  \n",
       "std              140.11                       6.30        0.64  \n",
       "min                0.00                       0.00        0.00  \n",
       "25%              190.69                       5.00        1.00  \n",
       "50%              308.12                      10.00        1.00  \n",
       "75%              401.31                      15.00        2.00  \n",
       "max              577.00                      28.00        3.00  "
      ]
     },
     "execution_count": 17,
     "metadata": {},
     "output_type": "execute_result"
    }
   ],
   "source": [
    "df = pd.DataFrame(pages_and_texts)\n",
    "df.describe().round(2)"
   ]
  },
  {
   "cell_type": "code",
   "execution_count": 18,
   "metadata": {},
   "outputs": [
    {
     "data": {
      "application/vnd.jupyter.widget-view+json": {
       "model_id": "a90b4e9454ac409691417ddea6ac94c5",
       "version_major": 2,
       "version_minor": 0
      },
      "text/plain": [
       "  0%|          | 0/1208 [00:00<?, ?it/s]"
      ]
     },
     "metadata": {},
     "output_type": "display_data"
    },
    {
     "data": {
      "text/plain": [
       "1843"
      ]
     },
     "execution_count": 18,
     "metadata": {},
     "output_type": "execute_result"
    }
   ],
   "source": [
    "# Split each chunk into its own item\n",
    "pages_and_chunks = []\n",
    "for item in tqdm(pages_and_texts):\n",
    "    for sentence_chunk in item[\"sentence_chunks\"]:\n",
    "        chunk_dict = {}\n",
    "        chunk_dict[\"page_number\"] = item[\"page_number\"]\n",
    "        \n",
    "        # Join the sentences together into a paragraph-like structure, aka a chunk (so they are a single string)\n",
    "        joined_sentence_chunk = \"\".join(sentence_chunk).replace(\"  \", \" \").strip()\n",
    "        joined_sentence_chunk = re.sub(r'\\.([A-Z])', r'. \\1', joined_sentence_chunk) # \".A\" -> \". A\" for any full-stop/capital letter combo \n",
    "        chunk_dict[\"sentence_chunk\"] = joined_sentence_chunk\n",
    "\n",
    "        # Get stats about the chunk\n",
    "        chunk_dict[\"chunk_char_count\"] = len(joined_sentence_chunk)\n",
    "        chunk_dict[\"chunk_word_count\"] = len([word for word in joined_sentence_chunk.split(\" \")])\n",
    "        chunk_dict[\"chunk_token_count\"] = len(joined_sentence_chunk) / 4 # 1 token = ~4 characters\n",
    "        \n",
    "        pages_and_chunks.append(chunk_dict)\n",
    "\n",
    "# How many chunks do we have?\n",
    "len(pages_and_chunks)"
   ]
  },
  {
   "cell_type": "code",
   "execution_count": 19,
   "metadata": {},
   "outputs": [
    {
     "data": {
      "text/plain": [
       "[{'page_number': 6,\n",
       "  'sentence_chunk': 'down digestible complex carbohydrates to simple sugars, mostly glucose. Glucose is then transported to all our cells where it is stored, used to make energy, or used to build macromolecules. Fiber is also a complex carbohydrate, but it cannot be broken down by digestive enzymes in the human intestine. As a result, it passes through the digestive tract undigested unless the bacteria that inhabit the colon or large intestine break it down. One gram of digestible carbohydrates yields four kilocalories of energy for the cells in the body to perform work. In addition to providing energy and serving as building blocks for bigger macromolecules, carbohydrates are essential for proper functioning of the nervous system, heart, and kidneys. As mentioned, glucose can be stored in the body for future use. In humans, the storage molecule of carbohydrates is called glycogen, and in plants, it is known as starch. Glycogen and starch are complex carbohydrates. Lipids Lipids are also a family of molecules composed of carbon, hydrogen, and oxygen, but unlike carbohydrates, they are insoluble in water.',\n",
       "  'chunk_char_count': 1100,\n",
       "  'chunk_word_count': 175,\n",
       "  'chunk_token_count': 275.0}]"
      ]
     },
     "execution_count": 19,
     "metadata": {},
     "output_type": "execute_result"
    }
   ],
   "source": [
    "random.sample(pages_and_chunks, k=1)"
   ]
  },
  {
   "cell_type": "code",
   "execution_count": 20,
   "metadata": {},
   "outputs": [
    {
     "data": {
      "text/html": [
       "<div>\n",
       "<style scoped>\n",
       "    .dataframe tbody tr th:only-of-type {\n",
       "        vertical-align: middle;\n",
       "    }\n",
       "\n",
       "    .dataframe tbody tr th {\n",
       "        vertical-align: top;\n",
       "    }\n",
       "\n",
       "    .dataframe thead th {\n",
       "        text-align: right;\n",
       "    }\n",
       "</style>\n",
       "<table border=\"1\" class=\"dataframe\">\n",
       "  <thead>\n",
       "    <tr style=\"text-align: right;\">\n",
       "      <th></th>\n",
       "      <th>page_number</th>\n",
       "      <th>chunk_char_count</th>\n",
       "      <th>chunk_word_count</th>\n",
       "      <th>chunk_token_count</th>\n",
       "    </tr>\n",
       "  </thead>\n",
       "  <tbody>\n",
       "    <tr>\n",
       "      <th>count</th>\n",
       "      <td>1843.00</td>\n",
       "      <td>1843.00</td>\n",
       "      <td>1843.00</td>\n",
       "      <td>1843.00</td>\n",
       "    </tr>\n",
       "    <tr>\n",
       "      <th>mean</th>\n",
       "      <td>583.38</td>\n",
       "      <td>734.83</td>\n",
       "      <td>112.72</td>\n",
       "      <td>183.71</td>\n",
       "    </tr>\n",
       "    <tr>\n",
       "      <th>std</th>\n",
       "      <td>347.79</td>\n",
       "      <td>447.43</td>\n",
       "      <td>71.07</td>\n",
       "      <td>111.86</td>\n",
       "    </tr>\n",
       "    <tr>\n",
       "      <th>min</th>\n",
       "      <td>-41.00</td>\n",
       "      <td>12.00</td>\n",
       "      <td>3.00</td>\n",
       "      <td>3.00</td>\n",
       "    </tr>\n",
       "    <tr>\n",
       "      <th>25%</th>\n",
       "      <td>280.50</td>\n",
       "      <td>315.00</td>\n",
       "      <td>45.00</td>\n",
       "      <td>78.75</td>\n",
       "    </tr>\n",
       "    <tr>\n",
       "      <th>50%</th>\n",
       "      <td>586.00</td>\n",
       "      <td>746.00</td>\n",
       "      <td>114.00</td>\n",
       "      <td>186.50</td>\n",
       "    </tr>\n",
       "    <tr>\n",
       "      <th>75%</th>\n",
       "      <td>890.00</td>\n",
       "      <td>1118.50</td>\n",
       "      <td>173.00</td>\n",
       "      <td>279.62</td>\n",
       "    </tr>\n",
       "    <tr>\n",
       "      <th>max</th>\n",
       "      <td>1166.00</td>\n",
       "      <td>1831.00</td>\n",
       "      <td>297.00</td>\n",
       "      <td>457.75</td>\n",
       "    </tr>\n",
       "  </tbody>\n",
       "</table>\n",
       "</div>"
      ],
      "text/plain": [
       "       page_number  chunk_char_count  chunk_word_count  chunk_token_count\n",
       "count      1843.00           1843.00           1843.00            1843.00\n",
       "mean        583.38            734.83            112.72             183.71\n",
       "std         347.79            447.43             71.07             111.86\n",
       "min         -41.00             12.00              3.00               3.00\n",
       "25%         280.50            315.00             45.00              78.75\n",
       "50%         586.00            746.00            114.00             186.50\n",
       "75%         890.00           1118.50            173.00             279.62\n",
       "max        1166.00           1831.00            297.00             457.75"
      ]
     },
     "execution_count": 20,
     "metadata": {},
     "output_type": "execute_result"
    }
   ],
   "source": [
    "df = pd.DataFrame(pages_and_chunks)\n",
    "df.describe().round(2)"
   ]
  },
  {
   "cell_type": "code",
   "execution_count": 21,
   "metadata": {},
   "outputs": [
    {
     "name": "stdout",
     "output_type": "stream",
     "text": [
      "Chunk token count: 20.5 | Text: PART XVI CHAPTER 16. PERFORMANCE NUTRITION Chapter 16. Performance Nutrition | 931\n",
      "Chunk token count: 13.0 | Text: US Department of Agriculture, 1136 | Food Insecurity\n",
      "Chunk token count: 5.25 | Text: 754 | MyPlate Planner\n",
      "Chunk token count: 12.75 | Text: https:/ /www.fda.gov/food/ 1022 | Food Preservation\n",
      "Chunk token count: 4.5 | Text: 708 | Introduction\n"
     ]
    },
    {
     "data": {
      "text/plain": [
       "[{'page_number': -39,\n",
       "  'sentence_chunk': 'Human Nutrition: 2020 Edition UNIVERSITY OF HAWAI‘I AT MĀNOA FOOD SCIENCE AND HUMAN NUTRITION PROGRAM ALAN TITCHENAL, SKYLAR HARA, NOEMI ARCEO CAACBAY, WILLIAM MEINKE-LAU, YA-YUN YANG, MARIE KAINOA FIALKOWSKI REVILLA, JENNIFER DRAPER, GEMADY LANGFELDER, CHERYL GIBBY, CHYNA NICOLE CHUN, AND ALLISON CALABRESE',\n",
       "  'chunk_char_count': 308,\n",
       "  'chunk_word_count': 42,\n",
       "  'chunk_token_count': 77.0},\n",
       " {'page_number': -38,\n",
       "  'sentence_chunk': 'Human Nutrition: 2020 Edition by University of Hawai‘i at Mānoa Food Science and Human Nutrition Program is licensed under a Creative Commons Attribution 4.0 International License, except where otherwise noted.',\n",
       "  'chunk_char_count': 210,\n",
       "  'chunk_word_count': 30,\n",
       "  'chunk_token_count': 52.5}]"
      ]
     },
     "execution_count": 21,
     "metadata": {},
     "output_type": "execute_result"
    }
   ],
   "source": [
    "min_token_length = 30\n",
    "for row in df[df[\"chunk_token_count\"] <= min_token_length].sample(5).iterrows():\n",
    "    print(f'Chunk token count: {row[1][\"chunk_token_count\"]} | Text: {row[1][\"sentence_chunk\"]}')\n",
    "\n",
    "pages_and_chunks_over_min_token_len = df[df[\"chunk_token_count\"] > min_token_length].to_dict(orient=\"records\")\n",
    "pages_and_chunks_over_min_token_len[:2]"
   ]
  },
  {
   "cell_type": "code",
   "execution_count": 23,
   "metadata": {},
   "outputs": [
    {
     "data": {
      "text/plain": [
       "[{'page_number': 265,\n",
       "  'sentence_chunk': 'Despite the claims these diets make, there is little scientific evidence to support that low-carbohydrate diets are significantly better than other diets in promoting long-term weight loss. A study in The Nutritional 5.\\xa0Elliott SS, Keim NL, et al. (2002). Fructose, Weight Gain, and the Insulin Resistance Syndrome. American Journal of Clinical Nutrition,\\xa076(5),911–22.http:/ /www.ajcn.org/ content/76/5/911.full. Accessed September 27, 2017. Health Consequences and Benefits of High-Carbohydrate Diets | 265',\n",
       "  'chunk_char_count': 508,\n",
       "  'chunk_word_count': 67,\n",
       "  'chunk_token_count': 127.0}]"
      ]
     },
     "execution_count": 23,
     "metadata": {},
     "output_type": "execute_result"
    }
   ],
   "source": [
    "random.sample(pages_and_chunks_over_min_token_len, k=1)"
   ]
  },
  {
   "cell_type": "markdown",
   "metadata": {},
   "source": [
    "### Embedding Text Chunks"
   ]
  },
  {
   "cell_type": "code",
   "execution_count": 1,
   "metadata": {},
   "outputs": [
    {
     "name": "stderr",
     "output_type": "stream",
     "text": [
      "/Users/nc1514/Documents/GitHub/rag-from-scratch/venv/lib/python3.10/site-packages/huggingface_hub/file_download.py:1132: FutureWarning: `resume_download` is deprecated and will be removed in version 1.0.0. Downloads always resume when possible. If you want to force a new download, use `force_download=True`.\n",
      "  warnings.warn(\n",
      "/Users/nc1514/Documents/GitHub/rag-from-scratch/venv/lib/python3.10/site-packages/huggingface_hub/file_download.py:1132: FutureWarning: `resume_download` is deprecated and will be removed in version 1.0.0. Downloads always resume when possible. If you want to force a new download, use `force_download=True`.\n",
      "  warnings.warn(\n"
     ]
    },
    {
     "data": {
      "application/vnd.jupyter.widget-view+json": {
       "model_id": "b3a5c841962740d38f6c06382f8f57db",
       "version_major": 2,
       "version_minor": 0
      },
      "text/plain": [
       "model.safetensors:  79%|#######9  | 346M/438M [00:00<?, ?B/s]"
      ]
     },
     "metadata": {},
     "output_type": "display_data"
    },
    {
     "data": {
      "application/vnd.jupyter.widget-view+json": {
       "model_id": "360a67e23cc14af980438111d0d3ad8e",
       "version_major": 2,
       "version_minor": 0
      },
      "text/plain": [
       "tokenizer_config.json:   0%|          | 0.00/363 [00:00<?, ?B/s]"
      ]
     },
     "metadata": {},
     "output_type": "display_data"
    },
    {
     "data": {
      "application/vnd.jupyter.widget-view+json": {
       "model_id": "6a1dda2607ff45a091eced762900d168",
       "version_major": 2,
       "version_minor": 0
      },
      "text/plain": [
       "vocab.txt:   0%|          | 0.00/232k [00:00<?, ?B/s]"
      ]
     },
     "metadata": {},
     "output_type": "display_data"
    },
    {
     "data": {
      "application/vnd.jupyter.widget-view+json": {
       "model_id": "7c454d1578924471bef9fb15c1484716",
       "version_major": 2,
       "version_minor": 0
      },
      "text/plain": [
       "tokenizer.json:   0%|          | 0.00/466k [00:00<?, ?B/s]"
      ]
     },
     "metadata": {},
     "output_type": "display_data"
    },
    {
     "data": {
      "application/vnd.jupyter.widget-view+json": {
       "model_id": "3cee9105c7a441d99706554f57c3ffbe",
       "version_major": 2,
       "version_minor": 0
      },
      "text/plain": [
       "special_tokens_map.json:   0%|          | 0.00/239 [00:00<?, ?B/s]"
      ]
     },
     "metadata": {},
     "output_type": "display_data"
    },
    {
     "data": {
      "application/vnd.jupyter.widget-view+json": {
       "model_id": "a00735714ac24bf5accc8d51edecdb6c",
       "version_major": 2,
       "version_minor": 0
      },
      "text/plain": [
       "1_Pooling/config.json:   0%|          | 0.00/190 [00:00<?, ?B/s]"
      ]
     },
     "metadata": {},
     "output_type": "display_data"
    }
   ],
   "source": [
    "from sentence_transformers import SentenceTransformer\n",
    "embedding_model = SentenceTransformer(model_name_or_path=\"all-mpnet-base-v2\",\n",
    "                                      device=\"cpu\")"
   ]
  },
  {
   "cell_type": "code",
   "execution_count": null,
   "metadata": {},
   "outputs": [],
   "source": [
    "%%time # gpu faster to embed chunks\n",
    "embedding_model.to('mps')\n",
    "for item in tqdm(pages_and_chunks_over_min_token_len):\n",
    "    item['embedding'] = embedding_model.encode(item['sentence_chunk'])"
   ]
  },
  {
   "cell_type": "code",
   "execution_count": null,
   "metadata": {},
   "outputs": [],
   "source": [
    "# Chunk embedding\n",
    "\n",
    "text_chunks = [item['sentence_chunk'] for item in pages_and_chunks_over_min_token_len]"
   ]
  },
  {
   "cell_type": "code",
   "execution_count": null,
   "metadata": {},
   "outputs": [],
   "source": [
    "%%time\n",
    "\n",
    "text_chunk_embeddings = embedding_model.encode(text_chunks,\n",
    "                                               batch_size=32,\n",
    "                                               convert_to_tensor=True)"
   ]
  }
 ],
 "metadata": {
  "kernelspec": {
   "display_name": "venv",
   "language": "python",
   "name": "python3"
  },
  "language_info": {
   "codemirror_mode": {
    "name": "ipython",
    "version": 3
   },
   "file_extension": ".py",
   "mimetype": "text/x-python",
   "name": "python",
   "nbconvert_exporter": "python",
   "pygments_lexer": "ipython3",
   "version": "3.10.13"
  }
 },
 "nbformat": 4,
 "nbformat_minor": 2
}
